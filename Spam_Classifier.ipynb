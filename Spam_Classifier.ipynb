{
  "cells": [
    {
      "cell_type": "markdown",
      "metadata": {
        "id": "view-in-github",
        "colab_type": "text"
      },
      "source": [
        "<a href=\"https://colab.research.google.com/github/MukulRaj-704/Spam-Detector/blob/main/Spam_Classifier.ipynb\" target=\"_parent\"><img src=\"https://colab.research.google.com/assets/colab-badge.svg\" alt=\"Open In Colab\"/></a>"
      ]
    },
    {
      "cell_type": "markdown",
      "metadata": {
        "id": "IOOdmyW83C9p"
      },
      "source": [
        "IMPORTING LIBRARIES"
      ]
    },
    {
      "cell_type": "code",
      "execution_count": 1,
      "metadata": {
        "id": "KLCwU06PC_jU"
      },
      "outputs": [],
      "source": [
        "import numpy as np\n",
        "import pandas as pd\n",
        "import matplotlib.pyplot as plt\n",
        "import seaborn as sns"
      ]
    },
    {
      "cell_type": "code",
      "execution_count": 2,
      "metadata": {
        "colab": {
          "base_uri": "https://localhost:8080/"
        },
        "id": "niPh0nfWDE3Q",
        "outputId": "75d5ca05-4909-46fe-c3dd-aa7b82bcac2a"
      },
      "outputs": [
        {
          "output_type": "stream",
          "name": "stdout",
          "text": [
            "Drive already mounted at /content/drive; to attempt to forcibly remount, call drive.mount(\"/content/drive\", force_remount=True).\n"
          ]
        }
      ],
      "source": [
        "from google.colab import drive\n",
        "drive.mount('/content/drive')"
      ]
    },
    {
      "cell_type": "code",
      "execution_count": 3,
      "metadata": {
        "colab": {
          "base_uri": "https://localhost:8080/"
        },
        "id": "-JhY1G_vDKHF",
        "outputId": "62f6db7b-1680-4969-a101-31e9c62559d9"
      },
      "outputs": [
        {
          "output_type": "execute_result",
          "data": {
            "text/plain": [
              "(33784, 3)"
            ]
          },
          "metadata": {},
          "execution_count": 3
        }
      ],
      "source": [
        "paths = '/content/drive/My Drive/Colab-files/enron emails.csv'\n",
        "df=pd.read_csv(paths, encoding='latin1')\n",
        "df.shape"
      ]
    },
    {
      "cell_type": "markdown",
      "metadata": {
        "id": "E5PfNzDs3Kax"
      },
      "source": [
        "CHECK ALL PPOSSIBLE MISSING VALUES IN OUR DATASET"
      ]
    },
    {
      "cell_type": "code",
      "execution_count": 4,
      "metadata": {
        "colab": {
          "base_uri": "https://localhost:8080/"
        },
        "id": "7A7x2Jt9DaE9",
        "outputId": "ec13f580-5345-4778-c298-8d0008827852"
      },
      "outputs": [
        {
          "output_type": "stream",
          "name": "stdout",
          "text": [
            "Message           3\n",
            "Category         83\n",
            "Unnamed: 2    33781\n",
            "dtype: int64\n"
          ]
        }
      ],
      "source": [
        "# Missing_mask = df['Message'].isnull()\n",
        "# print(Missing_mask)\n",
        "# Missing_mask.sum()\n",
        "# print(Missing_mask.sum())\n",
        "\n",
        "\n",
        "# Alternate to do the same thing above\n",
        "total_missing = df.isnull().sum()\n",
        "print(total_missing)"
      ]
    },
    {
      "cell_type": "markdown",
      "metadata": {
        "id": "F-HB_jpm3QeY"
      },
      "source": [
        "HERE WE CAN EASILY SEE THE TOTAL NO OF MISSING VALUES"
      ]
    },
    {
      "cell_type": "markdown",
      "metadata": {
        "id": "m_LSZeq83WUd"
      },
      "source": [
        "SO FOR BETTER PREPROCESSING DROP THESE MISSING VALUES ROWS"
      ]
    },
    {
      "cell_type": "code",
      "execution_count": 5,
      "metadata": {
        "colab": {
          "base_uri": "https://localhost:8080/"
        },
        "id": "I9nz6VGdDclZ",
        "outputId": "418ab2f5-b06e-4cf8-faa1-40a37df6f9fc"
      },
      "outputs": [
        {
          "output_type": "stream",
          "name": "stdout",
          "text": [
            "                                                 Message Category Unnamed: 2\n",
            "0               Subject: christmas tree farm pictures\\r       ham        NaN\n",
            "1                Subject: re : rankings\\r thank you .\\r       ham        NaN\n",
            "2      Subject: leadership development pilot\\r sally ...      ham        NaN\n",
            "3      Subject: key dates and impact of upcoming sap ...      ham        NaN\n",
            "4      Subject: key hr issues going forward a ) year ...      ham        NaN\n",
            "...                                                  ...      ...        ...\n",
            "33779  Subject: do you wish for a more active sex lif...     spam        NaN\n",
            "33780  Subject: bloow in 5 - 10 times the time\\r lear...     spam        NaN\n",
            "33781  Subject: why didnt you say hi\\r there is this ...     spam        NaN\n",
            "33782  Subject: dear sir , i am interested in it\\r hi...     spam        NaN\n",
            "33783  Subject: \\r html\\r body\\r b\\r pwhy not take a ...     spam        NaN\n",
            "\n",
            "[33698 rows x 3 columns]\n"
          ]
        }
      ],
      "source": [
        "drop_df = df.dropna(subset=['Message','Category'])\n",
        "print(drop_df)"
      ]
    },
    {
      "cell_type": "markdown",
      "metadata": {
        "id": "sc4khbPE3kd0"
      },
      "source": [
        "NOW WE CONVERT ALL UPPERCASE INTO LOWERCASE"
      ]
    },
    {
      "cell_type": "code",
      "execution_count": 6,
      "metadata": {
        "colab": {
          "base_uri": "https://localhost:8080/"
        },
        "id": "ME3J4lrRDkLz",
        "outputId": "8b41679f-7428-4586-d440-fd44488934cc"
      },
      "outputs": [
        {
          "output_type": "stream",
          "name": "stderr",
          "text": [
            "/tmp/ipython-input-6-12384010.py:1: SettingWithCopyWarning: \n",
            "A value is trying to be set on a copy of a slice from a DataFrame.\n",
            "Try using .loc[row_indexer,col_indexer] = value instead\n",
            "\n",
            "See the caveats in the documentation: https://pandas.pydata.org/pandas-docs/stable/user_guide/indexing.html#returning-a-view-versus-a-copy\n",
            "  drop_df['Message'] = drop_df['Message'].str.lower()\n"
          ]
        }
      ],
      "source": [
        "drop_df['Message'] = drop_df['Message'].str.lower()\n",
        "drop_df.to_csv(\"updated_file.csv\", index=False)"
      ]
    },
    {
      "cell_type": "markdown",
      "source": [
        "EXTRACT METADATA FEATURES FROM EMAIL"
      ],
      "metadata": {
        "id": "VoZPAGmJIo6f"
      }
    },
    {
      "cell_type": "code",
      "execution_count": 9,
      "metadata": {
        "id": "5bcef330"
      },
      "outputs": [],
      "source": [
        "import re\n",
        "\n",
        "URL_PATTERN = re.compile(r'http[s]?://(?:[a-zA-Z0-9]|[$-_@.&+]|[!*\\\\(\\\\),]|(?:%[0-9a-fA-F]{2}))+')\n",
        "EMAIL_PATTERN = re.compile(r'\\b[\\w\\.-]+@[\\w\\.-]+\\.\\w+\\b')\n",
        "SHORTENED_DOMAINS = ['bit.ly', 'goo.gl', 't.co', 'tinyurl.com', 'ow.ly']\n",
        "\n",
        "\n",
        "def count_urls(text):\n",
        "    return len(URL_PATTERN.findall(str(text)))\n",
        "\n",
        "def extract_urls(text):\n",
        "    return URL_PATTERN.findall(str(text))\n",
        "\n",
        "def has_shortened_url(text):\n",
        "    urls = extract_urls(text)\n",
        "    return int(any(short in url for short in SHORTENED_DOMAINS for url in urls))\n",
        "\n",
        "def count_email_addresses(text):\n",
        "    return len(EMAIL_PATTERN.findall(str(text)))\n",
        "\n",
        "def count_digits(text):\n",
        "    return len(re.findall(r'\\d', str(text)))\n",
        "\n",
        "def count_special_chars(text):\n",
        "    return len(re.findall(r'[^a-zA-Z0-9\\s]', str(text)))\n",
        "\n",
        "def has_money_keywords(text):\n",
        "    spam_keywords = ['win', 'cash', 'free', 'offer', 'guarantee', 'prize', 'urgent', 'bonus', '₹', '$']\n",
        "    text_lower = str(text).lower()\n",
        "    return int(any(word in text_lower for word in spam_keywords))\n",
        "\n",
        "def message_length(text):\n",
        "    return len(str(text))\n",
        "\n",
        "def num_words(text):\n",
        "    return len(str(text).split())\n",
        "\n",
        "def num_lines(text):\n",
        "    return len(str(text).split('\\n'))\n",
        "\n",
        "def is_reply_or_forward(text):\n",
        "    text = str(text).lower()\n",
        "    return int(text.startswith(\"re:\") or text.startswith(\"fw:\"))\n",
        "\n",
        "def extract_metadata_features(drop_df, message_column='Message'):\n",
        "    df = drop_df.copy()\n",
        "\n",
        "    df['num_urls'] = df[message_column].apply(count_urls)\n",
        "    df['short_urls'] = df[message_column].apply(has_shortened_url)\n",
        "    df['num_emails'] = df[message_column].apply(count_email_addresses)\n",
        "    df['num_digits'] = df[message_column].apply(count_digits)\n",
        "\n",
        "    df['num_special_chars'] = df[message_column].apply(count_special_chars)\n",
        "    df['has_money_keywords'] = df[message_column].apply(has_money_keywords)\n",
        "    df['message_length'] = df[message_column].apply(message_length)\n",
        "    df['num_words'] = df[message_column].apply(num_words)\n",
        "\n",
        "    df['num_lines'] = df[message_column].apply(num_lines)\n",
        "    df['is_reply_or_forward'] = df[message_column].apply(is_reply_or_forward)\n",
        "\n",
        "    return df\n",
        "\n",
        "\n"
      ]
    },
    {
      "cell_type": "code",
      "execution_count": 10,
      "metadata": {
        "colab": {
          "base_uri": "https://localhost:8080/",
          "height": 538
        },
        "id": "Hfs-oCV_-Alc",
        "outputId": "1a07ed99-9a04-4df1-b272-2ab92d13870f"
      },
      "outputs": [
        {
          "output_type": "display_data",
          "data": {
            "text/plain": [
              "                                             Message Category Unnamed: 2  \\\n",
              "0           subject: christmas tree farm pictures\\r       ham        NaN   \n",
              "1            subject: re : rankings\\r thank you .\\r       ham        NaN   \n",
              "2  subject: leadership development pilot\\r sally ...      ham        NaN   \n",
              "3  subject: key dates and impact of upcoming sap ...      ham        NaN   \n",
              "4  subject: key hr issues going forward a ) year ...      ham        NaN   \n",
              "\n",
              "   num_urls  short_urls  num_emails  num_digits  num_special_chars  \\\n",
              "0         0           0           0           0                  1   \n",
              "1         0           0           0           0                  3   \n",
              "2         0           0           0          61                199   \n",
              "3         0           0           0          32                139   \n",
              "4         0           0           0           0                 14   \n",
              "\n",
              "   has_money_keywords  message_length  num_words  num_lines  \\\n",
              "0                   0              39          5          1   \n",
              "1                   0              37          7          1   \n",
              "2                   1            3605        758          1   \n",
              "3                   0            3726        675          1   \n",
              "4                   0             338         62          1   \n",
              "\n",
              "   is_reply_or_forward  \n",
              "0                    0  \n",
              "1                    0  \n",
              "2                    0  \n",
              "3                    0  \n",
              "4                    0  "
            ],
            "text/html": [
              "\n",
              "  <div id=\"df-8c1f9a33-d2ef-4bc9-b0c6-15c548a51933\" class=\"colab-df-container\">\n",
              "    <div>\n",
              "<style scoped>\n",
              "    .dataframe tbody tr th:only-of-type {\n",
              "        vertical-align: middle;\n",
              "    }\n",
              "\n",
              "    .dataframe tbody tr th {\n",
              "        vertical-align: top;\n",
              "    }\n",
              "\n",
              "    .dataframe thead th {\n",
              "        text-align: right;\n",
              "    }\n",
              "</style>\n",
              "<table border=\"1\" class=\"dataframe\">\n",
              "  <thead>\n",
              "    <tr style=\"text-align: right;\">\n",
              "      <th></th>\n",
              "      <th>Message</th>\n",
              "      <th>Category</th>\n",
              "      <th>Unnamed: 2</th>\n",
              "      <th>num_urls</th>\n",
              "      <th>short_urls</th>\n",
              "      <th>num_emails</th>\n",
              "      <th>num_digits</th>\n",
              "      <th>num_special_chars</th>\n",
              "      <th>has_money_keywords</th>\n",
              "      <th>message_length</th>\n",
              "      <th>num_words</th>\n",
              "      <th>num_lines</th>\n",
              "      <th>is_reply_or_forward</th>\n",
              "    </tr>\n",
              "  </thead>\n",
              "  <tbody>\n",
              "    <tr>\n",
              "      <th>0</th>\n",
              "      <td>subject: christmas tree farm pictures\\r</td>\n",
              "      <td>ham</td>\n",
              "      <td>NaN</td>\n",
              "      <td>0</td>\n",
              "      <td>0</td>\n",
              "      <td>0</td>\n",
              "      <td>0</td>\n",
              "      <td>1</td>\n",
              "      <td>0</td>\n",
              "      <td>39</td>\n",
              "      <td>5</td>\n",
              "      <td>1</td>\n",
              "      <td>0</td>\n",
              "    </tr>\n",
              "    <tr>\n",
              "      <th>1</th>\n",
              "      <td>subject: re : rankings\\r thank you .\\r</td>\n",
              "      <td>ham</td>\n",
              "      <td>NaN</td>\n",
              "      <td>0</td>\n",
              "      <td>0</td>\n",
              "      <td>0</td>\n",
              "      <td>0</td>\n",
              "      <td>3</td>\n",
              "      <td>0</td>\n",
              "      <td>37</td>\n",
              "      <td>7</td>\n",
              "      <td>1</td>\n",
              "      <td>0</td>\n",
              "    </tr>\n",
              "    <tr>\n",
              "      <th>2</th>\n",
              "      <td>subject: leadership development pilot\\r sally ...</td>\n",
              "      <td>ham</td>\n",
              "      <td>NaN</td>\n",
              "      <td>0</td>\n",
              "      <td>0</td>\n",
              "      <td>0</td>\n",
              "      <td>61</td>\n",
              "      <td>199</td>\n",
              "      <td>1</td>\n",
              "      <td>3605</td>\n",
              "      <td>758</td>\n",
              "      <td>1</td>\n",
              "      <td>0</td>\n",
              "    </tr>\n",
              "    <tr>\n",
              "      <th>3</th>\n",
              "      <td>subject: key dates and impact of upcoming sap ...</td>\n",
              "      <td>ham</td>\n",
              "      <td>NaN</td>\n",
              "      <td>0</td>\n",
              "      <td>0</td>\n",
              "      <td>0</td>\n",
              "      <td>32</td>\n",
              "      <td>139</td>\n",
              "      <td>0</td>\n",
              "      <td>3726</td>\n",
              "      <td>675</td>\n",
              "      <td>1</td>\n",
              "      <td>0</td>\n",
              "    </tr>\n",
              "    <tr>\n",
              "      <th>4</th>\n",
              "      <td>subject: key hr issues going forward a ) year ...</td>\n",
              "      <td>ham</td>\n",
              "      <td>NaN</td>\n",
              "      <td>0</td>\n",
              "      <td>0</td>\n",
              "      <td>0</td>\n",
              "      <td>0</td>\n",
              "      <td>14</td>\n",
              "      <td>0</td>\n",
              "      <td>338</td>\n",
              "      <td>62</td>\n",
              "      <td>1</td>\n",
              "      <td>0</td>\n",
              "    </tr>\n",
              "  </tbody>\n",
              "</table>\n",
              "</div>\n",
              "    <div class=\"colab-df-buttons\">\n",
              "\n",
              "  <div class=\"colab-df-container\">\n",
              "    <button class=\"colab-df-convert\" onclick=\"convertToInteractive('df-8c1f9a33-d2ef-4bc9-b0c6-15c548a51933')\"\n",
              "            title=\"Convert this dataframe to an interactive table.\"\n",
              "            style=\"display:none;\">\n",
              "\n",
              "  <svg xmlns=\"http://www.w3.org/2000/svg\" height=\"24px\" viewBox=\"0 -960 960 960\">\n",
              "    <path d=\"M120-120v-720h720v720H120Zm60-500h600v-160H180v160Zm220 220h160v-160H400v160Zm0 220h160v-160H400v160ZM180-400h160v-160H180v160Zm440 0h160v-160H620v160ZM180-180h160v-160H180v160Zm440 0h160v-160H620v160Z\"/>\n",
              "  </svg>\n",
              "    </button>\n",
              "\n",
              "  <style>\n",
              "    .colab-df-container {\n",
              "      display:flex;\n",
              "      gap: 12px;\n",
              "    }\n",
              "\n",
              "    .colab-df-convert {\n",
              "      background-color: #E8F0FE;\n",
              "      border: none;\n",
              "      border-radius: 50%;\n",
              "      cursor: pointer;\n",
              "      display: none;\n",
              "      fill: #1967D2;\n",
              "      height: 32px;\n",
              "      padding: 0 0 0 0;\n",
              "      width: 32px;\n",
              "    }\n",
              "\n",
              "    .colab-df-convert:hover {\n",
              "      background-color: #E2EBFA;\n",
              "      box-shadow: 0px 1px 2px rgba(60, 64, 67, 0.3), 0px 1px 3px 1px rgba(60, 64, 67, 0.15);\n",
              "      fill: #174EA6;\n",
              "    }\n",
              "\n",
              "    .colab-df-buttons div {\n",
              "      margin-bottom: 4px;\n",
              "    }\n",
              "\n",
              "    [theme=dark] .colab-df-convert {\n",
              "      background-color: #3B4455;\n",
              "      fill: #D2E3FC;\n",
              "    }\n",
              "\n",
              "    [theme=dark] .colab-df-convert:hover {\n",
              "      background-color: #434B5C;\n",
              "      box-shadow: 0px 1px 3px 1px rgba(0, 0, 0, 0.15);\n",
              "      filter: drop-shadow(0px 1px 2px rgba(0, 0, 0, 0.3));\n",
              "      fill: #FFFFFF;\n",
              "    }\n",
              "  </style>\n",
              "\n",
              "    <script>\n",
              "      const buttonEl =\n",
              "        document.querySelector('#df-8c1f9a33-d2ef-4bc9-b0c6-15c548a51933 button.colab-df-convert');\n",
              "      buttonEl.style.display =\n",
              "        google.colab.kernel.accessAllowed ? 'block' : 'none';\n",
              "\n",
              "      async function convertToInteractive(key) {\n",
              "        const element = document.querySelector('#df-8c1f9a33-d2ef-4bc9-b0c6-15c548a51933');\n",
              "        const dataTable =\n",
              "          await google.colab.kernel.invokeFunction('convertToInteractive',\n",
              "                                                    [key], {});\n",
              "        if (!dataTable) return;\n",
              "\n",
              "        const docLinkHtml = 'Like what you see? Visit the ' +\n",
              "          '<a target=\"_blank\" href=https://colab.research.google.com/notebooks/data_table.ipynb>data table notebook</a>'\n",
              "          + ' to learn more about interactive tables.';\n",
              "        element.innerHTML = '';\n",
              "        dataTable['output_type'] = 'display_data';\n",
              "        await google.colab.output.renderOutput(dataTable, element);\n",
              "        const docLink = document.createElement('div');\n",
              "        docLink.innerHTML = docLinkHtml;\n",
              "        element.appendChild(docLink);\n",
              "      }\n",
              "    </script>\n",
              "  </div>\n",
              "\n",
              "\n",
              "    <div id=\"df-2cab361d-08f1-4784-950c-727f39320d7f\">\n",
              "      <button class=\"colab-df-quickchart\" onclick=\"quickchart('df-2cab361d-08f1-4784-950c-727f39320d7f')\"\n",
              "                title=\"Suggest charts\"\n",
              "                style=\"display:none;\">\n",
              "\n",
              "<svg xmlns=\"http://www.w3.org/2000/svg\" height=\"24px\"viewBox=\"0 0 24 24\"\n",
              "     width=\"24px\">\n",
              "    <g>\n",
              "        <path d=\"M19 3H5c-1.1 0-2 .9-2 2v14c0 1.1.9 2 2 2h14c1.1 0 2-.9 2-2V5c0-1.1-.9-2-2-2zM9 17H7v-7h2v7zm4 0h-2V7h2v10zm4 0h-2v-4h2v4z\"/>\n",
              "    </g>\n",
              "</svg>\n",
              "      </button>\n",
              "\n",
              "<style>\n",
              "  .colab-df-quickchart {\n",
              "      --bg-color: #E8F0FE;\n",
              "      --fill-color: #1967D2;\n",
              "      --hover-bg-color: #E2EBFA;\n",
              "      --hover-fill-color: #174EA6;\n",
              "      --disabled-fill-color: #AAA;\n",
              "      --disabled-bg-color: #DDD;\n",
              "  }\n",
              "\n",
              "  [theme=dark] .colab-df-quickchart {\n",
              "      --bg-color: #3B4455;\n",
              "      --fill-color: #D2E3FC;\n",
              "      --hover-bg-color: #434B5C;\n",
              "      --hover-fill-color: #FFFFFF;\n",
              "      --disabled-bg-color: #3B4455;\n",
              "      --disabled-fill-color: #666;\n",
              "  }\n",
              "\n",
              "  .colab-df-quickchart {\n",
              "    background-color: var(--bg-color);\n",
              "    border: none;\n",
              "    border-radius: 50%;\n",
              "    cursor: pointer;\n",
              "    display: none;\n",
              "    fill: var(--fill-color);\n",
              "    height: 32px;\n",
              "    padding: 0;\n",
              "    width: 32px;\n",
              "  }\n",
              "\n",
              "  .colab-df-quickchart:hover {\n",
              "    background-color: var(--hover-bg-color);\n",
              "    box-shadow: 0 1px 2px rgba(60, 64, 67, 0.3), 0 1px 3px 1px rgba(60, 64, 67, 0.15);\n",
              "    fill: var(--button-hover-fill-color);\n",
              "  }\n",
              "\n",
              "  .colab-df-quickchart-complete:disabled,\n",
              "  .colab-df-quickchart-complete:disabled:hover {\n",
              "    background-color: var(--disabled-bg-color);\n",
              "    fill: var(--disabled-fill-color);\n",
              "    box-shadow: none;\n",
              "  }\n",
              "\n",
              "  .colab-df-spinner {\n",
              "    border: 2px solid var(--fill-color);\n",
              "    border-color: transparent;\n",
              "    border-bottom-color: var(--fill-color);\n",
              "    animation:\n",
              "      spin 1s steps(1) infinite;\n",
              "  }\n",
              "\n",
              "  @keyframes spin {\n",
              "    0% {\n",
              "      border-color: transparent;\n",
              "      border-bottom-color: var(--fill-color);\n",
              "      border-left-color: var(--fill-color);\n",
              "    }\n",
              "    20% {\n",
              "      border-color: transparent;\n",
              "      border-left-color: var(--fill-color);\n",
              "      border-top-color: var(--fill-color);\n",
              "    }\n",
              "    30% {\n",
              "      border-color: transparent;\n",
              "      border-left-color: var(--fill-color);\n",
              "      border-top-color: var(--fill-color);\n",
              "      border-right-color: var(--fill-color);\n",
              "    }\n",
              "    40% {\n",
              "      border-color: transparent;\n",
              "      border-right-color: var(--fill-color);\n",
              "      border-top-color: var(--fill-color);\n",
              "    }\n",
              "    60% {\n",
              "      border-color: transparent;\n",
              "      border-right-color: var(--fill-color);\n",
              "    }\n",
              "    80% {\n",
              "      border-color: transparent;\n",
              "      border-right-color: var(--fill-color);\n",
              "      border-bottom-color: var(--fill-color);\n",
              "    }\n",
              "    90% {\n",
              "      border-color: transparent;\n",
              "      border-bottom-color: var(--fill-color);\n",
              "    }\n",
              "  }\n",
              "</style>\n",
              "\n",
              "      <script>\n",
              "        async function quickchart(key) {\n",
              "          const quickchartButtonEl =\n",
              "            document.querySelector('#' + key + ' button');\n",
              "          quickchartButtonEl.disabled = true;  // To prevent multiple clicks.\n",
              "          quickchartButtonEl.classList.add('colab-df-spinner');\n",
              "          try {\n",
              "            const charts = await google.colab.kernel.invokeFunction(\n",
              "                'suggestCharts', [key], {});\n",
              "          } catch (error) {\n",
              "            console.error('Error during call to suggestCharts:', error);\n",
              "          }\n",
              "          quickchartButtonEl.classList.remove('colab-df-spinner');\n",
              "          quickchartButtonEl.classList.add('colab-df-quickchart-complete');\n",
              "        }\n",
              "        (() => {\n",
              "          let quickchartButtonEl =\n",
              "            document.querySelector('#df-2cab361d-08f1-4784-950c-727f39320d7f button');\n",
              "          quickchartButtonEl.style.display =\n",
              "            google.colab.kernel.accessAllowed ? 'block' : 'none';\n",
              "        })();\n",
              "      </script>\n",
              "    </div>\n",
              "\n",
              "    </div>\n",
              "  </div>\n"
            ],
            "application/vnd.google.colaboratory.intrinsic+json": {
              "type": "dataframe",
              "repr_error": "Out of range float values are not JSON compliant: nan"
            }
          },
          "metadata": {}
        }
      ],
      "source": [
        "drop_dff = extract_metadata_features(drop_df, message_column='Message')\n",
        "display(drop_dff.head())"
      ]
    },
    {
      "cell_type": "markdown",
      "source": [
        "TF-IDF VECTORIZATION OF EMAIL TEXT"
      ],
      "metadata": {
        "id": "M6x0ClPWbu6Y"
      }
    },
    {
      "cell_type": "code",
      "execution_count": 11,
      "metadata": {
        "id": "1OOiMo39_L2l"
      },
      "outputs": [],
      "source": [
        "from sklearn.feature_extraction.text import TfidfVectorizer\n",
        "\n",
        "tfidf_vectorizer = TfidfVectorizer( stop_words='english', ngram_range=(1, 2))\n",
        "X_tfidf = tfidf_vectorizer.fit_transform(drop_dff['Message'])"
      ]
    },
    {
      "cell_type": "code",
      "execution_count": 12,
      "metadata": {
        "colab": {
          "base_uri": "https://localhost:8080/"
        },
        "id": "kKdcDISl_MwC",
        "outputId": "d38cf1f3-6dd8-47c5-b665-1978561dd402"
      },
      "outputs": [
        {
          "output_type": "stream",
          "name": "stdout",
          "text": [
            " features:\n",
            "['13 questions' '13 raised' '13 range' '13 rating' '13 ravi' '13 rc'\n",
            " '13 reached' '13 receipt' '13 received' '13 reply' '13 republicans'\n",
            " '13 requested' '13 respond' '13 result' '13 retaildesk' '13 reviews'\n",
            " '13 richard' '13 rick' '13 rita' '13 rockets' '13 roe' '13 roundtrip'\n",
            " '13 said' '13 sale' '13 san' '13 second' '13 semperger' '13 sent'\n",
            " '13 sep' '13 september' '13 set' '13 share' '13 sheila' '13 shijie'\n",
            " '13 shirley' '13 similarly' '13 sincerely' '13 sj' '13 smtp' '13 sold'\n",
            " '13 sotak' '13 southeastern' '13 sp' '13 spam' '13 spreadsheet' '13 st'\n",
            " '13 start' '13 state' '13 states' '13 student' '13 style'\n",
            " '13 subcommittee' '13 subject' '13 summer' '13 superscript' '13 tammie'\n",
            " '13 tcf' '13 temporarily' '13 terrorism' '13 tft' '13 th' '13 thanks'\n",
            " '13 think' '13 thirteen' '13 thursday' '13 ticket' '13 tim' '13 time'\n",
            " '13 times' '13 timothy' '13 tina' '13 tol' '13 took' '13 topic'\n",
            " '13 total' '13 trade' '13 trading' '13 trans' '13 transwestern' '13 type'\n",
            " '13 ucd' '13 unguided' '13 university' '13 unusable' '13 update' '13 usb'\n",
            " '13 using' '13 valign' '13 verbal' '13 verified' '13 victoria'\n",
            " '13 videos' '13 videosread' '13 vince' '13 vitro' '13 vols' '13 volume'\n",
            " '13 waiting' '13 watson' '13 wc' '13 week' '13 weeks' '13 welcome'\n",
            " '13 west' '13 wholesale' '13 william' '13 wxga' '13 xga' '13 xinhua'\n",
            " '13 xls' '13 yannis' '13 year' '13 years' '13 zero' '13 zithromax' '130'\n",
            " '130 00' '130 000' '130 121' '130 13' '130 132' '130 14' '130 144'\n",
            " '130 155' '130 2319' '130 310' '130 32' '130 332' '130 50' '130 500'\n",
            " '130 71' '130 958' '130 95951' '130 baptist' '130 baseline'\n",
            " '130 blackface' '130 brilliancy' '130 check' '130 clearly' '130 color'\n",
            " '130 cou' '130 coun' '130 count' '130 countr' '130 countri'\n",
            " '130 countrie' '130 countries' '130 cranage' '130 crore' '130 cust'\n",
            " '130 davie' '130 day' '130 domiciles' '130 dove' '130 encore' '130 fast'\n",
            " '130 fax' '130 isp' '130 las' '130 leading' '130 long' '130 lucky'\n",
            " '130 mariner' '130 megascope' '130 merchant' '130 mile' '130 million'\n",
            " '130 minutes' '130 misheard' '130 mm' '130 mmbtus' '130 mmcfd' '130 mr'\n",
            " '130 nettle' '130 people' '130 prim' '130 purseproud' '130 remember'\n",
            " '130 reply' '130 ronald' '130 sbwl' '130 scientific' '130 smtp'\n",
            " '130 squeal' '130 thursday' '130 transactions' '130 vermouth' '130 xls'\n",
            " '1300' '1300 10' '1300 1350' '1300 150' '1300 2100' '1300 25' '1300 300'\n",
            " '1300 alhamd' '1300 cdt' '1300 don' '1300 euros' '1300 evans' '1300 fax'\n",
            " '1300 lamar' '1300 line' '1300 mails' '1300 mmbtu' '1300 models'\n",
            " '1300 popular' '1300 repiica' '1300 replica' '1300 series'\n",
            " '1300 softwares' '1300 supplemental' '1300 west' '13000' '13000 aimee'\n",
            " '13000 mw' '1301' '1301 maintenance' '1302' '1302 1341' '1302 867'\n",
            " '1302 need' '1303' '1303 email' '13035' '13035 9736' '1304' '1304 757'\n",
            " '130441' '130441 app' '1305' '1305 00' '1307' '1307 email' '1308'\n",
            " '1308 00' '1308 813' '1308 821' '1308 fax' '13086' '13086 berlin'\n",
            " '13086 germany' '130880' '130880 cokinos' '130913' '130913 killed'\n",
            " '130917' '130917 deal' '130917 prize' '130917 start' '1309850200'\n",
            " '1309850200 safe' '131' '131 000' '131 126' '131 164' '131 1719' '131 18'\n",
            " '131 2338' '131 439' '131 597' '131 67' '131 6968' '131 717' '131 825'\n",
            " '131 868' '131 970' '131 border' '131 cathy' '131 days' '131 energy'\n",
            " '131 hickory' '131 macromedia' '131 mm' '131 rsvp' '131 soma'\n",
            " '131 square' '131 suite' '131 total' '1310' '1310 10' '1310 eot' '131048'\n",
            " '131048 hear' '131054' '131054 131048' '1311' '1311 412' '1313' '1313 nw'\n",
            " '1313 th' '1313 web' '1313 west' '1314' '1314 center' '1314 email'\n",
            " '1314 iit' '1314 south' '1314762529' '1314762529 buy' '1315' '1315 00'\n",
            " '1315 69' '1315 printer' '13158' '13158 delottobv' '13158 final'\n",
            " '13158 remember' '1316' '1316 00' '1317' '1317 617' '1317 alternate'\n",
            " '131720' '131720 bass' '131729' '131729 dec' '13173' '13173 reviews'\n",
            " '13175' '13175 pinery' '1318' '1318 00' '1318 email' '1319' '1319 00'\n",
            " '1319 13918' '1319 5492' '1319 enron' '132' '132 000' '132 120' '132 125'\n",
            " '132 1307' '132 133' '132 1661' '132 191' '132 200' '132 208' '132 220'\n",
            " '132 25' '132 284' '132 308' '132 4126' '132 438' '132 4414' '132 4647'\n",
            " '132 46472480' '132 4736' '132 50' '132 60' '132 612' '132 635'\n",
            " '132 7111' '132 756' '132 billion' '132 chrissy' '132 cu' '132 cudesktop'\n",
            " '132 eol' '132 epmi' '132 help' '132 lbs' '132 lo' '132 megawatts'\n",
            " '132 million' '132 nations' '132 spot' '132 stock' '132 taylors' '1320'\n",
            " '1320 00' '1320 15000' '1320 email' '1320 fort' '132030' '132030 deal'\n",
            " '1322' '1322 email' '1323' '1323 10' '1323 17' '1323 br' '1324'\n",
            " '1324 mobile' '1325' '1325 00' '1325296' '1325296 mi' '1326'\n",
            " '1326 reviews' '1326 steinberg' '1326 voice' '13271' '13271 invoked'\n",
            " '13273540422' '13273540422 winner' '1328' '1328 8599' '1328 email'\n",
            " '1328 jejohnson' '132832' '132832 reflects' '132845' '132845 76' '132975'\n",
            " '132975 comstock' '132976' '132976 oppose' '133' '133 00' '133 090'\n",
            " '133 121' '133 138' '133 22' '133 24' '133 25' '133 2863' '133 573'\n",
            " '133 676' '133 689' '133 70' '133 7384' '133 800' '133 85' '133 94'\n",
            " '133 accounting' '133 ai' '133 article' '133 crosbie' '133 dynamic'\n",
            " '133 exempt' '133 fasb' '133 fuel' '133 functional' '133 hpl' '133 mhz'\n",
            " '133 mm' '133 mmbtus' '133 mtm' '133 northridge' '133 offsite'\n",
            " '133 overwhelming' '133 paper' '133 park' '133 points' '133 presenting'\n",
            " '133 process' '133 related' '133 rhonda' '133 schererville' '133 session'\n",
            " '133 sessions' '133 training' '133 vince' '133 white' '133 working'\n",
            " '1330' '1330 096400' '1330 avenue' '1330 looking' '1330 mon'\n",
            " '1330 pacific' '133010' '133010 deal' '133010 heatherloch' '133010 north'\n",
            " '133088' '133088 stop' '1331' '1331 096400' '1331 email' '133125'\n",
            " '133125 1200' '133168' '133168 gsf' '133169' '133169 jul' '13317089'\n",
            " '13317089 rolete' '133173' '133173 1068' '133179' '133179 hpl' '133196'\n",
            " '133196 466305' '133196 expired' '133196 purchase' '1332' '1332 00'\n",
            " '1332 bayview' '1332 look' '1332 mm' '1332 octo' '1332 union'\n",
            " '1332 volumes' '133219' '133219 meter' '133255' '133255 670' '133257'\n",
            " '133257 deal' '133259' '133259 correctly' '133259 edited'\n",
            " '133259 gathering' '133259 purchase' '13326' '13326 austin' '133291'\n",
            " '133291 meter' '1333' '1333 00' '1333 120' '133304' '133304 conoco'\n",
            " '133304 include' '133308' '133308 95' '1333395' '1333395 rolete'\n",
            " '1333398' '1333398 rolete' '133342' '133342 meter' '133344'\n",
            " '133344 meter' '1334' '1334 10' '1334 feels' '1334 syngas' '133435'\n",
            " '133435 new' '1335' '1335 00' '1335 email' '1335 ena' '1335 july'\n",
            " '1335 reviews' '1336' '1336 office' '1336 purpose' '1336 regards'\n",
            " '133614' '133614 6322' '13365' '13365 lose' '133777' '133777 yahoo'\n",
            " '1339' '1339 reviews' '13391355761' '13391355761 500' '134' '134 00'\n",
            " '134 158' '134 210' '134 26' '134 2764' '134 3520' '134 400' '134 421'\n",
            " '134 4321' '134 501' '134 58' '134 6438' '134 87' '134 886' '134 9121'\n",
            " '134 bit' '134 bode' '134 categories' '134 crore' '134 dispute'\n",
            " '134 following' '134 just' '134 lbs' '134 martin' '134 mm' '134 oasis'\n",
            " '134 terry' '134 uss' '134 wibaustraat' '1340' '1340 00' '1340 ds'\n",
            " '1340093270' '1340093270 safe' '1341' '1341 title' '1341 voice'\n",
            " '13417514' '13417514 new' '13417514 password' '1342' '1342 agua' '1343'\n",
            " '1343 75' '1343 torrey' '13430' '13430 bellaire' '1344' '1345' '1345 00'\n",
            " '1345218' '1345218 rolete' '1346' '1346 17' '1346 wctopics' '13465550'\n",
            " '13465550 798' '1347' '13474' '13474 deleted' '134755' '134755 251650'\n",
            " '1348' '1348 barry' '1348 http' '1348903' '1348903 email' '134987'\n",
            " '134987 meter' '135' '135 00' '135 000' '135 035' '135 060' '135 105'\n",
            " '135 15' '135 155' '135 19' '135 197' '135 20' '135 215' '135 26'\n",
            " '135 425' '135 553' '135 600' '135 625' '135 64' '135 654' '135 73'\n",
            " '135 760' '135 79' '135 8899' '135 92' '135 absolutely' '135 adobe'\n",
            " '135 background' '135 corporate' '135 dave' '135 december' '135 details'\n",
            " '135 east' '135 epmi' '135 estimated' '135 hp' '135 irvine' '135 lanier'\n",
            " '135 lbs' '135 massive' '135 mb' '135 mile' '135 million' '135 mm'\n",
            " '135 mw' '135 nng' '135 otto' '135 sj' '135 td' '135 tramadol' '1350'\n",
            " '1350 branches' '1350 mmbtu' '1351' '1351 274772' '1351 daren' '1351 dec'\n",
            " '1351 extend' '1351 feb' '1351 flow' '1351 mobile' '135321'\n",
            " '135321 reviews' '1354' '1354 713' '1354 big' '1354 error' '1354 mobile'\n",
            " '1355' '1355 00' '1355 independent' '135664' '135664 crosstex' '1357'\n",
            " '1357 alternative' '1357 reviews' '135708' '135708 calpine' '135714'\n",
            " '135714 976' '135714 checked' '135714 donald' '135714 extended'\n",
            " '135714 having' '135714 meter' '135714 mjg' '135714 nick' '135714 spoke'\n",
            " '1358' '1358 2326196' '1358 pg' '135842' '135842 250703' '135895'\n",
            " '135895 251619' '1359' '1359 2326196' '13591' '13591 berlin' '135931652'\n",
            " '135931652 thrifty' '135958' '135958 251624' '136' '136 012' '136 05'\n",
            " '136 08' '136 10' '136 10341' '136 11' '136 127' '136 129' '136 140'\n",
            " '136 216' '136 44100' '136 442' '136 4945' '136 573' '136 630' '136 7079'\n",
            " '136 74' '136 812' '136 8446' '136 845' '136 9840' '136 billion'\n",
            " '136 carol' '136 carole' '136 channels' '136 costo' '136 deals' '136 dik'\n",
            " '136 dirk' '136 ed' '136 fte' '136 helo' '136 hours' '136 industry'\n",
            " '136 john' '136 locations' '136 mark' '136 martin' '136 metro' '136 mm'\n",
            " '136 murph' '136 nations' '136 real' '136 sales' '136 smtp'\n",
            " '136 subsidiaries' '136 week' '136 william' '1360' '1360 00' '1360 706'\n",
            " '1360 peachtree' '1361' '1361 comiats' '13617' '13617 artist' '1361763'\n",
            " '1361763 leader' '136185' '136185 13' '1362' '1362 end' '1362 recording'\n",
            " '136222' '136222 prize' '136225' '136225 meter' '136286' '136286 251357'\n",
            " '136287' '136287 251394' '13636' '13636 ventura' '1364' '1364 00'\n",
            " '13648351841' '13648351841 5589000' '1365' '1365 00' '13662'\n",
            " '13662 estutenwsl' '136744' '136744 deal' '13681' '13681 chantico'\n",
            " '13682' '13682 hello' '136880' '136880 251212' '1369' '1369 30'\n",
            " '1369 internal' '1369 madison' '136933' '136933 251129' '137' '137 00'\n",
            " '137 000' '137 012' '137 100' '137 13' '137 1411' '137 3263' '137 489'\n",
            " '137 50' '137 500' '137 5138' '137 52' '137 7601' '137 89' '137 933'\n",
            " '137 ajadua' '137 ben' '137 lbs' '137 million' '1370' '1370 00'\n",
            " '1370 0017' '13710' '13710 deer' '137156' '137156 140' '1372'\n",
            " '1372 attached' '1372 email' '137205' '137205 adjusted'\n",
            " '137205 effective' '1373' '1373 000' '1373 07' '1373 10' '1373 change'\n",
            " '1373 channel' '1373 deal' '1373 deals' '1373 effective' '1373 ena'\n",
            " '1373 ethyl' '1373 feb' '1373 gas' '1373 hpl' '1373 instead' '1373 just'\n",
            " '1373 leaving' '1373 let' '1373 march' '1373 package' '1373 pager'\n",
            " '1373 phllips' '1373 sitara' '1374' '1374 fax' '1374 utah' '13746'\n",
            " '13746 13035' '1375' '1375 00' '1375 nd' '137595' '137595 dewbre'\n",
            " '137595 sales' '1376' '1376 savita' '1376 serial' '1377' '1377 11'\n",
            " '1377 email' '1378' '1378 alternative' '1378 look' '1378 www' '137858'\n",
            " '137858 core' '137868' '137868 664' '137870' '137870 235670'\n",
            " '137870 purchase' '137971' '137971 1147' '138' '138 00' '138 000'\n",
            " '138 106' '138 111' '138 160' '138 1741' '138 237' '138 32' '138 400'\n",
            " '138 4143' '138 505' '138 554' '138 794' '138 89' '138 99'\n",
            " '138 accounting' '138 ambien' '138 cincinnati' '138 davie' '138 day'\n",
            " '138 edward' '138 eitf' '138 executive' '138 gallup' '138 hpl' '138 href'\n",
            " '138 img' '138 jacksonville' '138 kv' '138 lexington' '138 llp'\n",
            " '138 market' '138 montgomery' '138 nashville' '138 nominated' '138 note'\n",
            " '138 pensacola' '138 phone' '138 po' '138 portland' '138 powercontacts'\n",
            " '138 rice' '138 sacramento' '138 salt' '138 seattle' '138 st'\n",
            " '138 textarea' '138 tim' '138 tiyu' '138 transported' '138 vioxx'\n",
            " '138 washington' '1380' '1380 00' '1380 garnet' '138017' '138017 1000'\n",
            " '138017 thanks' '138023' '138023 984' '138033' '138033 900' '138049'\n",
            " '138049 committed' '13805' '13805 20' '13805 guerre' '1380520'\n",
            " '1380520 high' '138086' '138086 expired' '138094' '138094 120866'\n",
            " '138094 according' '138095' '138095 meter' '1381' '1381 mobile' '138103'\n",
            " '138103 144' '13811' '13811 cedar' '1382' '1382 75' '1382 js' '1382150'\n",
            " '1382150 high' '138233' '138233 gulf' '1382625' '1382625 high' '1383']\n"
          ]
        }
      ],
      "source": [
        "feature_names = tfidf_vectorizer.get_feature_names_out()\n",
        "\n",
        "print(\" features:\")\n",
        "print(feature_names[19000:20000])"
      ]
    },
    {
      "cell_type": "code",
      "execution_count": 14,
      "metadata": {
        "id": "I5ZGxWbQ_yHL"
      },
      "outputs": [],
      "source": [
        "column = [\n",
        "    'num_urls', 'short_urls', 'num_emails', 'num_digits', 'num_special_chars', 'has_money_keywords',\n",
        "    'message_length', 'num_words', 'num_lines', 'is_reply_or_forward'\n",
        "]\n",
        "\n",
        "X_meta = drop_dff[column].astype(int).values"
      ]
    },
    {
      "cell_type": "markdown",
      "source": [
        "COMBINING METADATA AND TF-IDF VECTORIZATION"
      ],
      "metadata": {
        "id": "m0oZKXiGb_c4"
      }
    },
    {
      "cell_type": "code",
      "execution_count": 15,
      "metadata": {
        "id": "3hCswESBA6rw"
      },
      "outputs": [],
      "source": [
        "from scipy.sparse import hstack\n",
        "\n",
        "X_combined = hstack([X_tfidf, X_meta])\n"
      ]
    },
    {
      "cell_type": "code",
      "execution_count": 16,
      "metadata": {
        "colab": {
          "base_uri": "https://localhost:8080/"
        },
        "id": "dh0OBLEPA_ua",
        "outputId": "6757b0a8-afe0-48eb-fbd8-840f6c490e29"
      },
      "outputs": [
        {
          "output_type": "execute_result",
          "data": {
            "text/plain": [
              "(33698, 1612740)"
            ]
          },
          "metadata": {},
          "execution_count": 16
        }
      ],
      "source": [
        "X_combined.shape"
      ]
    },
    {
      "cell_type": "markdown",
      "source": [
        "TARGET COLUMN"
      ],
      "metadata": {
        "id": "ggzy9bOncKG5"
      }
    },
    {
      "cell_type": "code",
      "execution_count": 17,
      "metadata": {
        "id": "WECBdbKVBEpo"
      },
      "outputs": [],
      "source": [
        "y = drop_dff['Category']"
      ]
    },
    {
      "cell_type": "markdown",
      "source": [
        "TRAINING NAIVE-BAYES MOEDL FOR THE PREDICTION\n",
        "\n",
        "\n"
      ],
      "metadata": {
        "id": "IhtmUY5zwk-I"
      }
    },
    {
      "cell_type": "code",
      "execution_count": 19,
      "metadata": {
        "colab": {
          "base_uri": "https://localhost:8080/"
        },
        "id": "wYdgE803BYJB",
        "outputId": "6bae5e23-9379-4f47-b55c-0a8416d06416"
      },
      "outputs": [
        {
          "output_type": "stream",
          "name": "stdout",
          "text": [
            "Classification Report\n",
            "              precision    recall  f1-score   support\n",
            "\n",
            "         ham       0.76      0.77      0.77      3300\n",
            "        spam       0.78      0.77      0.77      3440\n",
            "\n",
            "    accuracy                           0.77      6740\n",
            "   macro avg       0.77      0.77      0.77      6740\n",
            "weighted avg       0.77      0.77      0.77      6740\n",
            "\n",
            "Accuracy 0.7704747774480712\n"
          ]
        }
      ],
      "source": [
        "from sklearn.model_selection import train_test_split\n",
        "from sklearn.naive_bayes import MultinomialNB\n",
        "from sklearn.metrics import classification_report, accuracy_score, confusion_matrix\n",
        "\n",
        "X_train, X_test, y_train, y_test = train_test_split(X_combined, y, test_size=0.2, random_state=42)\n",
        "model = MultinomialNB()\n",
        "model.fit(X_train, y_train)\n",
        "\n",
        "y_pred = model.predict(X_test)\n",
        "\n",
        "print(\"Classification Report\")\n",
        "print(classification_report(y_test, y_pred))\n",
        "Accuracy_NB = accuracy_score(y_test, y_pred)\n",
        "print(\"Accuracy\",Accuracy_NB)"
      ]
    },
    {
      "cell_type": "markdown",
      "source": [
        "C-MAP VISUALIZATION OF PREDICTION"
      ],
      "metadata": {
        "id": "6qYbV6qCw1b3"
      }
    },
    {
      "cell_type": "code",
      "source": [
        "cm = confusion_matrix(y_test, y_pred)\n",
        "sns.heatmap(cm, annot=True, fmt='d', cmap='Greens', xticklabels=model.classes_, yticklabels=model.classes_)\n",
        "plt.xlabel(\"Prediction by Naive-Bayes Model\")\n",
        "plt.ylabel(\"Actual Classifiction\")\n",
        "plt.title(\"Confusion Matrix of Naive-Bayes\")\n",
        "plt.show()"
      ],
      "metadata": {
        "colab": {
          "base_uri": "https://localhost:8080/",
          "height": 472
        },
        "id": "7KkScQMvwz8e",
        "outputId": "c500a82b-f8a6-4bd9-af8b-cac414bd2d56"
      },
      "execution_count": 20,
      "outputs": [
        {
          "output_type": "display_data",
          "data": {
            "text/plain": [
              "<Figure size 640x480 with 2 Axes>"
            ],
            "image/png": "[encoded data removed]"
          },
          "metadata": {}
        }
      ]
    },
    {
      "cell_type": "markdown",
      "source": [
        "NAIVE-BAYES MODEL ON CUSTOME EMAIL"
      ],
      "metadata": {
        "id": "hXALt0OpxloZ"
      }
    },
    {
      "cell_type": "code",
      "source": [
        "custom_emails = [\n",
        "    \"Dear Mukul Raj Paawan, We hope you're doing great! Congratulations on your next leap towards a maximized career with Flipkart! You have successfully completed your assessment...\",\n",
        "    \"Get FREE access to our exclusive offer — click now and claim your reward!\",\n",
        "    \"Hi Mukul, your resume was shortlisted. Please schedule your interview at your convenience.\",\n",
        "    \"Warning: Your account will be suspended unless you verify your identity now. Click here to confirm.\"\n",
        "]\n",
        "\n",
        "for i, email in enumerate(custom_emails, 1):\n",
        "\n",
        "    temp_df = pd.DataFrame({'Message': [email]})\n",
        "\n",
        "    email_meta = extract_metadata_features(temp_df, message_column='Message')[column].astype(int).values\n",
        "\n",
        "    email_tfidf = tfidf_vectorizer.transform([email])\n",
        "\n",
        "    email_combined = hstack([email_tfidf, email_meta])\n",
        "\n",
        "    prediction = model.predict(email_combined)\n",
        "    confidence = model.predict_proba(email_combined)\n",
        "\n",
        "    print(f\"\\n Email {i}:\")\n",
        "    print(email)\n",
        "    print(\"Prediction:\", \"Spam 🚨\" if prediction[0] == 'spam' else \"Ham ✅\")\n",
        "    print(\"Confidence (Ham, Spam):\", confidence[0])"
      ],
      "metadata": {
        "colab": {
          "base_uri": "https://localhost:8080/"
        },
        "id": "JNs0xUnJbCw_",
        "outputId": "990818cf-5ffa-48e0-a99c-817ce1c5ef09"
      },
      "execution_count": 23,
      "outputs": [
        {
          "output_type": "stream",
          "name": "stdout",
          "text": [
            "\n",
            " Email 1:\n",
            "Dear Mukul Raj Paawan, We hope you're doing great! Congratulations on your next leap towards a maximized career with Flipkart! You have successfully completed your assessment...\n",
            "Prediction: Spam 🚨\n",
            "Confidence (Ham, Spam): [0.2553306 0.7446694]\n",
            "\n",
            " Email 2:\n",
            "Get FREE access to our exclusive offer — click now and claim your reward!\n",
            "Prediction: Spam 🚨\n",
            "Confidence (Ham, Spam): [0.02358601 0.97641399]\n",
            "\n",
            " Email 3:\n",
            "Hi Mukul, your resume was shortlisted. Please schedule your interview at your convenience.\n",
            "Prediction: Ham ✅\n",
            "Confidence (Ham, Spam): [0.86552916 0.13447084]\n",
            "\n",
            " Email 4:\n",
            "Warning: Your account will be suspended unless you verify your identity now. Click here to confirm.\n",
            "Prediction: Spam 🚨\n",
            "Confidence (Ham, Spam): [0.04133066 0.95866934]\n"
          ]
        }
      ]
    },
    {
      "cell_type": "markdown",
      "source": [
        "TRAINING DECISION TREE MODEL"
      ],
      "metadata": {
        "id": "FHL7IHRfl7YP"
      }
    },
    {
      "cell_type": "code",
      "source": [
        "from sklearn.tree import DecisionTreeClassifier\n",
        "from sklearn.model_selection import train_test_split\n",
        "\n",
        "X_train, X_test, y_train, y_test = train_test_split(X_combined, y, test_size=0.2, random_state=42)\n",
        "\n",
        "dt_model = DecisionTreeClassifier(max_depth=20, random_state=42)\n",
        "dt_model.fit(X_train, y_train)\n",
        "from sklearn.metrics import classification_report\n",
        "\n",
        "y_pred = dt_model.predict(X_test)\n",
        "print(\"Decision Tree Performance:\\n\")\n",
        "print(classification_report(y_test, y_pred))\n",
        "Accuracy_dt = accuracy_score(y_test, y_pred)\n",
        "print(\"Accuracy\",Accuracy_dt)"
      ],
      "metadata": {
        "colab": {
          "base_uri": "https://localhost:8080/"
        },
        "id": "mefJ4BiFl7DU",
        "outputId": "85d2a608-c1fc-4418-c18b-80c053453d23"
      },
      "execution_count": 24,
      "outputs": [
        {
          "output_type": "stream",
          "name": "stdout",
          "text": [
            "Decision Tree Performance:\n",
            "\n",
            "              precision    recall  f1-score   support\n",
            "\n",
            "         ham       0.98      0.90      0.94      3300\n",
            "        spam       0.91      0.98      0.94      3440\n",
            "\n",
            "    accuracy                           0.94      6740\n",
            "   macro avg       0.94      0.94      0.94      6740\n",
            "weighted avg       0.94      0.94      0.94      6740\n",
            "\n",
            "Accuracy 0.9409495548961424\n"
          ]
        }
      ]
    },
    {
      "cell_type": "markdown",
      "source": [
        "C-MAP OF DECISION TREE MODEL"
      ],
      "metadata": {
        "id": "OHTwRVewyDtR"
      }
    },
    {
      "cell_type": "code",
      "source": [
        "cm = confusion_matrix(y_test, y_pred)\n",
        "sns.heatmap(cm, annot=True, fmt='d', cmap='Purples', xticklabels=model.classes_, yticklabels=model.classes_)\n",
        "plt.xlabel(\"Predicted\")\n",
        "plt.ylabel(\"Actual\")\n",
        "plt.title(\"Confusion Matrix OF DECISION TREE MODEL\")\n",
        "plt.show()"
      ],
      "metadata": {
        "colab": {
          "base_uri": "https://localhost:8080/",
          "height": 472
        },
        "id": "mcyIACQ2mw54",
        "outputId": "97b714d9-8e21-41a8-b68a-2171a9748045"
      },
      "execution_count": 26,
      "outputs": [
        {
          "output_type": "display_data",
          "data": {
            "text/plain": [
              "<Figure size 640x480 with 2 Axes>"
            ],
            "image/png": "[encoded data removed]"
          },
          "metadata": {}
        }
      ]
    },
    {
      "cell_type": "markdown",
      "source": [
        "DECISION TREE MODEL ON CUSTOM EMAILS"
      ],
      "metadata": {
        "id": "2I6nGxEQyR5B"
      }
    },
    {
      "cell_type": "code",
      "source": [
        "custom_emails = [\n",
        "    \"Dear Mukul Raj Paawan, We hope you're doing great! Congratulations on your next leap towards a maximized career with Flipkart! You have successfully completed your assessment...\",\n",
        "    \"Get FREE access to our exclusive offer — click now and claim your reward!\",\n",
        "    \"Hi Mukul, your resume was shortlisted. Please schedule your interview at your convenience.\",\n",
        "    \"Warning: Your account will be suspended unless you verify your identity now. Click here to confirm.\"\n",
        "]\n",
        "\n",
        "for i, email in enumerate(custom_emails, 1):\n",
        "\n",
        "    temp_df = pd.DataFrame({'Message': [email]})\n",
        "\n",
        "    email_meta = extract_metadata_features(temp_df, message_column='Message')[column].astype(int).values\n",
        "\n",
        "    email_tfidf = tfidf_vectorizer.transform([email])\n",
        "\n",
        "    email_combined = hstack([email_tfidf, email_meta])\n",
        "\n",
        "    prediction = dt_model.predict(email_combined)\n",
        "    confidence = dt_model.predict_proba(email_combined)\n",
        "\n",
        "    print(f\"\\n Email {i}:\")\n",
        "    print(email)\n",
        "    print(\"Prediction:\", \"Spam 🚨\" if prediction[0] == 'spam' else \"Ham ✅\")\n",
        "    print(\"Confidence (Ham, Spam):\", confidence[0])"
      ],
      "metadata": {
        "colab": {
          "base_uri": "https://localhost:8080/"
        },
        "id": "SKqWoMg4nAiV",
        "outputId": "d60acc8e-17f9-4277-cd48-0d7ba64cefa1"
      },
      "execution_count": 28,
      "outputs": [
        {
          "output_type": "stream",
          "name": "stdout",
          "text": [
            "\n",
            " Email 1:\n",
            "Dear Mukul Raj Paawan, We hope you're doing great! Congratulations on your next leap towards a maximized career with Flipkart! You have successfully completed your assessment...\n",
            "Prediction: Ham ✅\n",
            "Confidence (Ham, Spam): [1. 0.]\n",
            "\n",
            " Email 2:\n",
            "Get FREE access to our exclusive offer — click now and claim your reward!\n",
            "Prediction: Spam 🚨\n",
            "Confidence (Ham, Spam): [0.18030691 0.81969309]\n",
            "\n",
            " Email 3:\n",
            "Hi Mukul, your resume was shortlisted. Please schedule your interview at your convenience.\n",
            "Prediction: Spam 🚨\n",
            "Confidence (Ham, Spam): [0.18030691 0.81969309]\n",
            "\n",
            " Email 4:\n",
            "Warning: Your account will be suspended unless you verify your identity now. Click here to confirm.\n",
            "Prediction: Spam 🚨\n",
            "Confidence (Ham, Spam): [0.18030691 0.81969309]\n"
          ]
        }
      ]
    },
    {
      "cell_type": "markdown",
      "source": [
        "TRAINING RANDOM FOREST MODEL"
      ],
      "metadata": {
        "id": "Q1QbqDk1nO4E"
      }
    },
    {
      "cell_type": "code",
      "source": [
        "from sklearn.ensemble import RandomForestClassifier\n",
        "from sklearn.model_selection import train_test_split\n",
        "\n",
        "X_train, X_test, y_train, y_test = train_test_split(X_combined, y, test_size=0.2, random_state=42)\n",
        "\n",
        "rf_model = RandomForestClassifier(n_estimators=100, max_depth=20, random_state=42)\n",
        "rf_model.fit(X_train, y_train)\n",
        "from sklearn.metrics import classification_report\n",
        "\n",
        "y_pred = rf_model.predict(X_test)\n",
        "print(\"Random Forest Performance:\\n\")\n",
        "print(classification_report(y_test, y_pred))\n",
        "Accuracy_RF = accuracy_score(y_test, y_pred)\n",
        "print(\"Accuracy\",Accuracy_RF)"
      ],
      "metadata": {
        "colab": {
          "base_uri": "https://localhost:8080/"
        },
        "id": "ENtCfMULnSyq",
        "outputId": "d36941f2-af2e-4bb3-b946-c423c97c888a"
      },
      "execution_count": 30,
      "outputs": [
        {
          "output_type": "stream",
          "name": "stdout",
          "text": [
            "Random Forest Performance:\n",
            "\n",
            "              precision    recall  f1-score   support\n",
            "\n",
            "         ham       1.00      0.85      0.92      3300\n",
            "        spam       0.88      1.00      0.93      3440\n",
            "\n",
            "    accuracy                           0.93      6740\n",
            "   macro avg       0.94      0.92      0.93      6740\n",
            "weighted avg       0.93      0.93      0.93      6740\n",
            "\n",
            "Accuracy 0.9262611275964392\n"
          ]
        }
      ]
    },
    {
      "cell_type": "markdown",
      "source": [
        "C-MAP OF RANDOM FOREST"
      ],
      "metadata": {
        "id": "OzXD1iL_yphB"
      }
    },
    {
      "cell_type": "code",
      "source": [
        "cm = confusion_matrix(y_test, y_pred)\n",
        "sns.heatmap(cm, annot=True, fmt='d', cmap='Blues', xticklabels=model.classes_, yticklabels=model.classes_)\n",
        "plt.xlabel(\"Predicted\")\n",
        "plt.ylabel(\"Actual\")\n",
        "plt.title(\"Confusion Matrix OF RANDOM FOREST\")\n",
        "plt.show()"
      ],
      "metadata": {
        "colab": {
          "base_uri": "https://localhost:8080/",
          "height": 472
        },
        "id": "Co4Fzrqvyove",
        "outputId": "4e254ae9-e98c-4906-b909-8808d3fa1a72"
      },
      "execution_count": 31,
      "outputs": [
        {
          "output_type": "display_data",
          "data": {
            "text/plain": [
              "<Figure size 640x480 with 2 Axes>"
            ],
            "image/png": "[encoded data removed]"
          },
          "metadata": {}
        }
      ]
    },
    {
      "cell_type": "markdown",
      "source": [
        "RANDOM FOREST ON CUSTOM EMAILS"
      ],
      "metadata": {
        "id": "WJ4rcMOnyxBo"
      }
    },
    {
      "cell_type": "code",
      "source": [
        "custom_emails = [\n",
        "    \"Dear Mukul Raj Paawan, We hope you're doing great! Congratulations on your next leap towards a maximized career with Flipkart! You have successfully completed your assessment...\",\n",
        "    \"Get FREE access to our exclusive offer — click now and claim your reward!\",\n",
        "    \"Hi Mukul, your resume was shortlisted. Please schedule your interview at your convenience.\",\n",
        "    \"Warning: Your account will be suspended unless you verify your identity now. Click here to confirm.\"\n",
        "]\n",
        "\n",
        "for i, email in enumerate(custom_emails, 1):\n",
        "\n",
        "    temp_df = pd.DataFrame({'Message': [email]})\n",
        "\n",
        "    email_meta = extract_metadata_features(temp_df, message_column='Message')[column].astype(int).values\n",
        "\n",
        "    email_tfidf = tfidf_vectorizer.transform([email])\n",
        "\n",
        "    email_combined = hstack([email_tfidf, email_meta])\n",
        "\n",
        "    prediction = rf_model.predict(email_combined)\n",
        "    confidence = rf_model.predict_proba(email_combined)\n",
        "\n",
        "    print(f\"\\n Email {i}:\")\n",
        "    print(email)\n",
        "    print(\"Prediction:\", \"Spam 🚨\" if prediction[0] == 'spam' else \"Ham ✅\")\n",
        "    print(\"Confidence (Ham, Spam):\", confidence[0])"
      ],
      "metadata": {
        "colab": {
          "base_uri": "https://localhost:8080/"
        },
        "id": "DEMtK_nfoa1E",
        "outputId": "4e62ced6-e881-43d5-94d0-92b82d46b97b"
      },
      "execution_count": 33,
      "outputs": [
        {
          "output_type": "stream",
          "name": "stdout",
          "text": [
            "\n",
            " Email 1:\n",
            "Dear Mukul Raj Paawan, We hope you're doing great! Congratulations on your next leap towards a maximized career with Flipkart! You have successfully completed your assessment...\n",
            "Prediction: Spam 🚨\n",
            "Confidence (Ham, Spam): [0.47392325 0.52607675]\n",
            "\n",
            " Email 2:\n",
            "Get FREE access to our exclusive offer — click now and claim your reward!\n",
            "Prediction: Spam 🚨\n",
            "Confidence (Ham, Spam): [0.43649157 0.56350843]\n",
            "\n",
            " Email 3:\n",
            "Hi Mukul, your resume was shortlisted. Please schedule your interview at your convenience.\n",
            "Prediction: Spam 🚨\n",
            "Confidence (Ham, Spam): [0.46856713 0.53143287]\n",
            "\n",
            " Email 4:\n",
            "Warning: Your account will be suspended unless you verify your identity now. Click here to confirm.\n",
            "Prediction: Spam 🚨\n",
            "Confidence (Ham, Spam): [0.44202881 0.55797119]\n"
          ]
        }
      ]
    }
  ],
  "metadata": {
    "colab": {
      "provenance": [],
      "authorship_tag": "ABX9TyPMVcnGcUMFOcsdqrVWtFFv",
      "include_colab_link": true
    },
    "kernelspec": {
      "display_name": "Python 3",
      "name": "python3"
    },
    "language_info": {
      "name": "python"
    }
  },
  "nbformat": 4,
  "nbformat_minor": 0
}