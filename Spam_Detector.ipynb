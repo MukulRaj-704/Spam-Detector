{
  "nbformat": 4,
  "nbformat_minor": 0,
  "metadata": {
    "colab": {
      "provenance": [],
      "authorship_tag": "ABX9TyMXrfZqA5qjzkWwbDARD7sd",
      "include_colab_link": true
    },
    "kernelspec": {
      "name": "python3",
      "display_name": "Python 3"
    },
    "language_info": {
      "name": "python"
    }
  },
  "cells": [
    {
      "cell_type": "markdown",
      "metadata": {
        "id": "view-in-github",
        "colab_type": "text"
      },
      "source": [
        "<a href=\"https://colab.research.google.com/github/MukulRaj-704/Spam-Detector/blob/main/Spam_Detector.ipynb\" target=\"_parent\"><img src=\"https://colab.research.google.com/assets/colab-badge.svg\" alt=\"Open In Colab\"/></a>"
      ]
    },
    {
      "cell_type": "markdown",
      "source": [
        "Importing Libraries"
      ],
      "metadata": {
        "id": "5IKVAFaw-606"
      }
    },
    {
      "cell_type": "code",
      "execution_count": 1,
      "metadata": {
        "id": "ZG6v0FGQmg1T"
      },
      "outputs": [],
      "source": [
        "import numpy as np\n",
        "import pandas as pd"
      ]
    },
    {
      "cell_type": "code",
      "source": [
        "import matplotlib.pyplot as plt\n",
        "import seaborn as sns"
      ],
      "metadata": {
        "id": "8NANhKqQo1ab"
      },
      "execution_count": 2,
      "outputs": []
    },
    {
      "cell_type": "code",
      "source": [
        "from google.colab import drive\n",
        "drive.mount('/content/drive')"
      ],
      "metadata": {
        "id": "aWHJ-jVqo7Ay",
        "colab": {
          "base_uri": "https://localhost:8080/"
        },
        "outputId": "4bcd9b1e-f24b-44bb-fbd9-4a87adf8075a"
      },
      "execution_count": 3,
      "outputs": [
        {
          "output_type": "stream",
          "name": "stdout",
          "text": [
            "Drive already mounted at /content/drive; to attempt to forcibly remount, call drive.mount(\"/content/drive\", force_remount=True).\n"
          ]
        }
      ]
    },
    {
      "cell_type": "code",
      "source": [
        "paths = '/content/drive/My Drive/Colab-files/enron emails.csv'"
      ],
      "metadata": {
        "id": "AnfmPov5kiTM"
      },
      "execution_count": 4,
      "outputs": []
    },
    {
      "cell_type": "code",
      "source": [
        "df=pd.read_csv(paths, encoding='latin1')"
      ],
      "metadata": {
        "id": "nxzH1l52k9H3"
      },
      "execution_count": 5,
      "outputs": []
    },
    {
      "cell_type": "code",
      "source": [
        "df.shape"
      ],
      "metadata": {
        "colab": {
          "base_uri": "https://localhost:8080/"
        },
        "id": "zZjQMtLXlBn5",
        "outputId": "76dac7bf-c087-436a-8692-4d6614a75214"
      },
      "execution_count": 6,
      "outputs": [
        {
          "output_type": "execute_result",
          "data": {
            "text/plain": [
              "(33784, 3)"
            ]
          },
          "metadata": {},
          "execution_count": 6
        }
      ]
    },
    {
      "cell_type": "code",
      "source": [
        "df.info()"
      ],
      "metadata": {
        "colab": {
          "base_uri": "https://localhost:8080/"
        },
        "id": "GrTe5-LPoM-Q",
        "outputId": "919be232-f182-4f58-943e-ca831b92f249"
      },
      "execution_count": 7,
      "outputs": [
        {
          "output_type": "stream",
          "name": "stdout",
          "text": [
            "<class 'pandas.core.frame.DataFrame'>\n",
            "RangeIndex: 33784 entries, 0 to 33783\n",
            "Data columns (total 3 columns):\n",
            " #   Column      Non-Null Count  Dtype \n",
            "---  ------      --------------  ----- \n",
            " 0   Message     33781 non-null  object\n",
            " 1   Category    33701 non-null  object\n",
            " 2   Unnamed: 2  3 non-null      object\n",
            "dtypes: object(3)\n",
            "memory usage: 791.9+ KB\n"
          ]
        }
      ]
    },
    {
      "cell_type": "markdown",
      "source": [
        "Here we calculate the total no of missing values in our Message column od dataset"
      ],
      "metadata": {
        "id": "LKtT-V1L-K80"
      }
    },
    {
      "cell_type": "code",
      "source": [
        "# Missing_mask = df['Message'].isnull()\n",
        "# print(Missing_mask)\n",
        "# Missing_mask.sum()\n",
        "# print(Missing_mask.sum())\n",
        "\n",
        "\n",
        "# Alternate to do the same thing above\n",
        "total_missing_in_column = df['Message'].isnull().sum()\n",
        "print(total_missing_in_column)"
      ],
      "metadata": {
        "colab": {
          "base_uri": "https://localhost:8080/"
        },
        "id": "hA_z7TP58ThL",
        "outputId": "ad6a8cf4-35d8-416e-adea-6591ea8f7e08"
      },
      "execution_count": 8,
      "outputs": [
        {
          "output_type": "stream",
          "name": "stdout",
          "text": [
            "3\n"
          ]
        }
      ]
    },
    {
      "cell_type": "markdown",
      "source": [
        "Now we drop these missing Vlaues in Message column"
      ],
      "metadata": {
        "id": "zbJG5pwZ-uix"
      }
    },
    {
      "cell_type": "code",
      "source": [
        "drop_df = df.dropna(subset=['Message'])\n",
        "print(drop_df)"
      ],
      "metadata": {
        "colab": {
          "base_uri": "https://localhost:8080/"
        },
        "id": "r5kjL1-K-z_D",
        "outputId": "a2877724-fb3f-4289-9448-7b1bf6a09e50"
      },
      "execution_count": 9,
      "outputs": [
        {
          "output_type": "stream",
          "name": "stdout",
          "text": [
            "                                                 Message Category Unnamed: 2\n",
            "0               Subject: christmas tree farm pictures\\r       ham        NaN\n",
            "1                Subject: re : rankings\\r thank you .\\r       ham        NaN\n",
            "2      Subject: leadership development pilot\\r sally ...      ham        NaN\n",
            "3      Subject: key dates and impact of upcoming sap ...      ham        NaN\n",
            "4      Subject: key hr issues going forward a ) year ...      ham        NaN\n",
            "...                                                  ...      ...        ...\n",
            "33779  Subject: do you wish for a more active sex lif...     spam        NaN\n",
            "33780  Subject: bloow in 5 - 10 times the time\\r lear...     spam        NaN\n",
            "33781  Subject: why didnt you say hi\\r there is this ...     spam        NaN\n",
            "33782  Subject: dear sir , i am interested in it\\r hi...     spam        NaN\n",
            "33783  Subject: \\r html\\r body\\r b\\r pwhy not take a ...     spam        NaN\n",
            "\n",
            "[33781 rows x 3 columns]\n"
          ]
        }
      ]
    },
    {
      "cell_type": "markdown",
      "source": [
        "so we have 33781 rows lest and 3 rows are deleted"
      ],
      "metadata": {
        "id": "1i--5Ioc_hLc"
      }
    },
    {
      "cell_type": "code",
      "source": [
        "drop_df.describe()\n",
        "drop_df.info()"
      ],
      "metadata": {
        "colab": {
          "base_uri": "https://localhost:8080/"
        },
        "id": "G1bD5tuNqWZU",
        "outputId": "71dc37a3-5cea-43d7-890b-931aa50cb7f1"
      },
      "execution_count": 10,
      "outputs": [
        {
          "output_type": "stream",
          "name": "stdout",
          "text": [
            "<class 'pandas.core.frame.DataFrame'>\n",
            "Index: 33781 entries, 0 to 33783\n",
            "Data columns (total 3 columns):\n",
            " #   Column      Non-Null Count  Dtype \n",
            "---  ------      --------------  ----- \n",
            " 0   Message     33781 non-null  object\n",
            " 1   Category    33698 non-null  object\n",
            " 2   Unnamed: 2  0 non-null      object\n",
            "dtypes: object(3)\n",
            "memory usage: 1.0+ MB\n"
          ]
        }
      ]
    },
    {
      "cell_type": "markdown",
      "source": [
        "Preprocessing Data\n",
        "\n",
        "Convert All Email into LowerCase"
      ],
      "metadata": {
        "id": "9LqeiXi5_Do-"
      }
    },
    {
      "cell_type": "code",
      "source": [
        "# df = pd.read_csv(\"/content/drive/My Drive/Colab-files/enron emails.csv\", encoding='latin1')\n",
        "drop_df['Message'] = drop_df['Message'].str.lower()\n",
        "drop_df.to_csv(\"updated_file.csv\", index=False)"
      ],
      "metadata": {
        "id": "VHOeMIYf0Sf8",
        "colab": {
          "base_uri": "https://localhost:8080/"
        },
        "outputId": "f0446d21-521c-4fcb-cebd-ec21e43ccfb7"
      },
      "execution_count": 11,
      "outputs": [
        {
          "output_type": "stream",
          "name": "stderr",
          "text": [
            "/tmp/ipython-input-11-235639736.py:2: SettingWithCopyWarning: \n",
            "A value is trying to be set on a copy of a slice from a DataFrame.\n",
            "Try using .loc[row_indexer,col_indexer] = value instead\n",
            "\n",
            "See the caveats in the documentation: https://pandas.pydata.org/pandas-docs/stable/user_guide/indexing.html#returning-a-view-versus-a-copy\n",
            "  drop_df['Message'] = drop_df['Message'].str.lower()\n"
          ]
        }
      ]
    },
    {
      "cell_type": "code",
      "source": [
        "drop_df.head()"
      ],
      "metadata": {
        "colab": {
          "base_uri": "https://localhost:8080/",
          "height": 206
        },
        "id": "7KB2tm8S0j_r",
        "outputId": "11c29eee-3cd5-4825-a5dc-5bda038e4d5d"
      },
      "execution_count": 12,
      "outputs": [
        {
          "output_type": "execute_result",
          "data": {
            "text/plain": [
              "                                             Message Category Unnamed: 2\n",
              "0           subject: christmas tree farm pictures\\r       ham        NaN\n",
              "1            subject: re : rankings\\r thank you .\\r       ham        NaN\n",
              "2  subject: leadership development pilot\\r sally ...      ham        NaN\n",
              "3  subject: key dates and impact of upcoming sap ...      ham        NaN\n",
              "4  subject: key hr issues going forward a ) year ...      ham        NaN"
            ],
            "text/html": [
              "\n",
              "  <div id=\"df-601e7b2c-f58f-44f3-9429-07f7513da261\" class=\"colab-df-container\">\n",
              "    <div>\n",
              "<style scoped>\n",
              "    .dataframe tbody tr th:only-of-type {\n",
              "        vertical-align: middle;\n",
              "    }\n",
              "\n",
              "    .dataframe tbody tr th {\n",
              "        vertical-align: top;\n",
              "    }\n",
              "\n",
              "    .dataframe thead th {\n",
              "        text-align: right;\n",
              "    }\n",
              "</style>\n",
              "<table border=\"1\" class=\"dataframe\">\n",
              "  <thead>\n",
              "    <tr style=\"text-align: right;\">\n",
              "      <th></th>\n",
              "      <th>Message</th>\n",
              "      <th>Category</th>\n",
              "      <th>Unnamed: 2</th>\n",
              "    </tr>\n",
              "  </thead>\n",
              "  <tbody>\n",
              "    <tr>\n",
              "      <th>0</th>\n",
              "      <td>subject: christmas tree farm pictures\\r</td>\n",
              "      <td>ham</td>\n",
              "      <td>NaN</td>\n",
              "    </tr>\n",
              "    <tr>\n",
              "      <th>1</th>\n",
              "      <td>subject: re : rankings\\r thank you .\\r</td>\n",
              "      <td>ham</td>\n",
              "      <td>NaN</td>\n",
              "    </tr>\n",
              "    <tr>\n",
              "      <th>2</th>\n",
              "      <td>subject: leadership development pilot\\r sally ...</td>\n",
              "      <td>ham</td>\n",
              "      <td>NaN</td>\n",
              "    </tr>\n",
              "    <tr>\n",
              "      <th>3</th>\n",
              "      <td>subject: key dates and impact of upcoming sap ...</td>\n",
              "      <td>ham</td>\n",
              "      <td>NaN</td>\n",
              "    </tr>\n",
              "    <tr>\n",
              "      <th>4</th>\n",
              "      <td>subject: key hr issues going forward a ) year ...</td>\n",
              "      <td>ham</td>\n",
              "      <td>NaN</td>\n",
              "    </tr>\n",
              "  </tbody>\n",
              "</table>\n",
              "</div>\n",
              "    <div class=\"colab-df-buttons\">\n",
              "\n",
              "  <div class=\"colab-df-container\">\n",
              "    <button class=\"colab-df-convert\" onclick=\"convertToInteractive('df-601e7b2c-f58f-44f3-9429-07f7513da261')\"\n",
              "            title=\"Convert this dataframe to an interactive table.\"\n",
              "            style=\"display:none;\">\n",
              "\n",
              "  <svg xmlns=\"http://www.w3.org/2000/svg\" height=\"24px\" viewBox=\"0 -960 960 960\">\n",
              "    <path d=\"M120-120v-720h720v720H120Zm60-500h600v-160H180v160Zm220 220h160v-160H400v160Zm0 220h160v-160H400v160ZM180-400h160v-160H180v160Zm440 0h160v-160H620v160ZM180-180h160v-160H180v160Zm440 0h160v-160H620v160Z\"/>\n",
              "  </svg>\n",
              "    </button>\n",
              "\n",
              "  <style>\n",
              "    .colab-df-container {\n",
              "      display:flex;\n",
              "      gap: 12px;\n",
              "    }\n",
              "\n",
              "    .colab-df-convert {\n",
              "      background-color: #E8F0FE;\n",
              "      border: none;\n",
              "      border-radius: 50%;\n",
              "      cursor: pointer;\n",
              "      display: none;\n",
              "      fill: #1967D2;\n",
              "      height: 32px;\n",
              "      padding: 0 0 0 0;\n",
              "      width: 32px;\n",
              "    }\n",
              "\n",
              "    .colab-df-convert:hover {\n",
              "      background-color: #E2EBFA;\n",
              "      box-shadow: 0px 1px 2px rgba(60, 64, 67, 0.3), 0px 1px 3px 1px rgba(60, 64, 67, 0.15);\n",
              "      fill: #174EA6;\n",
              "    }\n",
              "\n",
              "    .colab-df-buttons div {\n",
              "      margin-bottom: 4px;\n",
              "    }\n",
              "\n",
              "    [theme=dark] .colab-df-convert {\n",
              "      background-color: #3B4455;\n",
              "      fill: #D2E3FC;\n",
              "    }\n",
              "\n",
              "    [theme=dark] .colab-df-convert:hover {\n",
              "      background-color: #434B5C;\n",
              "      box-shadow: 0px 1px 3px 1px rgba(0, 0, 0, 0.15);\n",
              "      filter: drop-shadow(0px 1px 2px rgba(0, 0, 0, 0.3));\n",
              "      fill: #FFFFFF;\n",
              "    }\n",
              "  </style>\n",
              "\n",
              "    <script>\n",
              "      const buttonEl =\n",
              "        document.querySelector('#df-601e7b2c-f58f-44f3-9429-07f7513da261 button.colab-df-convert');\n",
              "      buttonEl.style.display =\n",
              "        google.colab.kernel.accessAllowed ? 'block' : 'none';\n",
              "\n",
              "      async function convertToInteractive(key) {\n",
              "        const element = document.querySelector('#df-601e7b2c-f58f-44f3-9429-07f7513da261');\n",
              "        const dataTable =\n",
              "          await google.colab.kernel.invokeFunction('convertToInteractive',\n",
              "                                                    [key], {});\n",
              "        if (!dataTable) return;\n",
              "\n",
              "        const docLinkHtml = 'Like what you see? Visit the ' +\n",
              "          '<a target=\"_blank\" href=https://colab.research.google.com/notebooks/data_table.ipynb>data table notebook</a>'\n",
              "          + ' to learn more about interactive tables.';\n",
              "        element.innerHTML = '';\n",
              "        dataTable['output_type'] = 'display_data';\n",
              "        await google.colab.output.renderOutput(dataTable, element);\n",
              "        const docLink = document.createElement('div');\n",
              "        docLink.innerHTML = docLinkHtml;\n",
              "        element.appendChild(docLink);\n",
              "      }\n",
              "    </script>\n",
              "  </div>\n",
              "\n",
              "\n",
              "    <div id=\"df-2663e863-79bb-45b6-92ce-e773beb9549d\">\n",
              "      <button class=\"colab-df-quickchart\" onclick=\"quickchart('df-2663e863-79bb-45b6-92ce-e773beb9549d')\"\n",
              "                title=\"Suggest charts\"\n",
              "                style=\"display:none;\">\n",
              "\n",
              "<svg xmlns=\"http://www.w3.org/2000/svg\" height=\"24px\"viewBox=\"0 0 24 24\"\n",
              "     width=\"24px\">\n",
              "    <g>\n",
              "        <path d=\"M19 3H5c-1.1 0-2 .9-2 2v14c0 1.1.9 2 2 2h14c1.1 0 2-.9 2-2V5c0-1.1-.9-2-2-2zM9 17H7v-7h2v7zm4 0h-2V7h2v10zm4 0h-2v-4h2v4z\"/>\n",
              "    </g>\n",
              "</svg>\n",
              "      </button>\n",
              "\n",
              "<style>\n",
              "  .colab-df-quickchart {\n",
              "      --bg-color: #E8F0FE;\n",
              "      --fill-color: #1967D2;\n",
              "      --hover-bg-color: #E2EBFA;\n",
              "      --hover-fill-color: #174EA6;\n",
              "      --disabled-fill-color: #AAA;\n",
              "      --disabled-bg-color: #DDD;\n",
              "  }\n",
              "\n",
              "  [theme=dark] .colab-df-quickchart {\n",
              "      --bg-color: #3B4455;\n",
              "      --fill-color: #D2E3FC;\n",
              "      --hover-bg-color: #434B5C;\n",
              "      --hover-fill-color: #FFFFFF;\n",
              "      --disabled-bg-color: #3B4455;\n",
              "      --disabled-fill-color: #666;\n",
              "  }\n",
              "\n",
              "  .colab-df-quickchart {\n",
              "    background-color: var(--bg-color);\n",
              "    border: none;\n",
              "    border-radius: 50%;\n",
              "    cursor: pointer;\n",
              "    display: none;\n",
              "    fill: var(--fill-color);\n",
              "    height: 32px;\n",
              "    padding: 0;\n",
              "    width: 32px;\n",
              "  }\n",
              "\n",
              "  .colab-df-quickchart:hover {\n",
              "    background-color: var(--hover-bg-color);\n",
              "    box-shadow: 0 1px 2px rgba(60, 64, 67, 0.3), 0 1px 3px 1px rgba(60, 64, 67, 0.15);\n",
              "    fill: var(--button-hover-fill-color);\n",
              "  }\n",
              "\n",
              "  .colab-df-quickchart-complete:disabled,\n",
              "  .colab-df-quickchart-complete:disabled:hover {\n",
              "    background-color: var(--disabled-bg-color);\n",
              "    fill: var(--disabled-fill-color);\n",
              "    box-shadow: none;\n",
              "  }\n",
              "\n",
              "  .colab-df-spinner {\n",
              "    border: 2px solid var(--fill-color);\n",
              "    border-color: transparent;\n",
              "    border-bottom-color: var(--fill-color);\n",
              "    animation:\n",
              "      spin 1s steps(1) infinite;\n",
              "  }\n",
              "\n",
              "  @keyframes spin {\n",
              "    0% {\n",
              "      border-color: transparent;\n",
              "      border-bottom-color: var(--fill-color);\n",
              "      border-left-color: var(--fill-color);\n",
              "    }\n",
              "    20% {\n",
              "      border-color: transparent;\n",
              "      border-left-color: var(--fill-color);\n",
              "      border-top-color: var(--fill-color);\n",
              "    }\n",
              "    30% {\n",
              "      border-color: transparent;\n",
              "      border-left-color: var(--fill-color);\n",
              "      border-top-color: var(--fill-color);\n",
              "      border-right-color: var(--fill-color);\n",
              "    }\n",
              "    40% {\n",
              "      border-color: transparent;\n",
              "      border-right-color: var(--fill-color);\n",
              "      border-top-color: var(--fill-color);\n",
              "    }\n",
              "    60% {\n",
              "      border-color: transparent;\n",
              "      border-right-color: var(--fill-color);\n",
              "    }\n",
              "    80% {\n",
              "      border-color: transparent;\n",
              "      border-right-color: var(--fill-color);\n",
              "      border-bottom-color: var(--fill-color);\n",
              "    }\n",
              "    90% {\n",
              "      border-color: transparent;\n",
              "      border-bottom-color: var(--fill-color);\n",
              "    }\n",
              "  }\n",
              "</style>\n",
              "\n",
              "      <script>\n",
              "        async function quickchart(key) {\n",
              "          const quickchartButtonEl =\n",
              "            document.querySelector('#' + key + ' button');\n",
              "          quickchartButtonEl.disabled = true;  // To prevent multiple clicks.\n",
              "          quickchartButtonEl.classList.add('colab-df-spinner');\n",
              "          try {\n",
              "            const charts = await google.colab.kernel.invokeFunction(\n",
              "                'suggestCharts', [key], {});\n",
              "          } catch (error) {\n",
              "            console.error('Error during call to suggestCharts:', error);\n",
              "          }\n",
              "          quickchartButtonEl.classList.remove('colab-df-spinner');\n",
              "          quickchartButtonEl.classList.add('colab-df-quickchart-complete');\n",
              "        }\n",
              "        (() => {\n",
              "          let quickchartButtonEl =\n",
              "            document.querySelector('#df-2663e863-79bb-45b6-92ce-e773beb9549d button');\n",
              "          quickchartButtonEl.style.display =\n",
              "            google.colab.kernel.accessAllowed ? 'block' : 'none';\n",
              "        })();\n",
              "      </script>\n",
              "    </div>\n",
              "\n",
              "    </div>\n",
              "  </div>\n"
            ],
            "application/vnd.google.colaboratory.intrinsic+json": {
              "type": "dataframe",
              "variable_name": "drop_df",
              "repr_error": "Out of range float values are not JSON compliant: nan"
            }
          },
          "metadata": {},
          "execution_count": 12
        }
      ]
    },
    {
      "cell_type": "code",
      "source": [
        "from sklearn.feature_extraction.text import TfidfVectorizer\n",
        "\n",
        "tfidf_vectorizer = TfidfVectorizer(max_features=3000)  # optional: limit vocabulary size\n",
        "X_tfidf = tfidf_vectorizer.fit_transform(drop_df['Message'])"
      ],
      "metadata": {
        "id": "qRxEmYZwGNqB"
      },
      "execution_count": 15,
      "outputs": []
    },
    {
      "cell_type": "code",
      "source": [
        "print(f\"Shape of X_tfidf (documents, features): {X_tfidf.shape}\")"
      ],
      "metadata": {
        "colab": {
          "base_uri": "https://localhost:8080/"
        },
        "id": "_tBbON1JHYCq",
        "outputId": "f9e2f280-5912-414e-f0fe-08d48239546c"
      },
      "execution_count": 16,
      "outputs": [
        {
          "output_type": "stream",
          "name": "stdout",
          "text": [
            "Shape of X_tfidf (documents, features): (33781, 3000)\n"
          ]
        }
      ]
    },
    {
      "cell_type": "code",
      "source": [
        "feature_names = tfidf_vectorizer.get_feature_names_out()\n",
        "print(\"\\n--- First 20 TF-IDF Feature Names (Words/N-grams in Vocabulary) ---\")\n",
        "print(feature_names[:20])\n",
        "# ...\n",
        "#print(df_tfidf_output)"
      ],
      "metadata": {
        "colab": {
          "base_uri": "https://localhost:8080/"
        },
        "id": "mNXWMRZ6HYrm",
        "outputId": "a8425a6e-b100-40bf-ef42-ed8c2d8aa228"
      },
      "execution_count": 18,
      "outputs": [
        {
          "output_type": "stream",
          "name": "stdout",
          "text": [
            "\n",
            "--- First 20 TF-IDF Feature Names (Words/N-grams in Vocabulary) ---\n",
            "['00' '000' '0000' '01' '02' '03' '04' '05' '06' '07' '08' '09' '10' '100'\n",
            " '1000' '101' '105' '11' '110' '12']\n"
          ]
        }
      ]
    },
    {
      "cell_type": "code",
      "source": [
        "import pandas as pd\n",
        "import numpy as np\n",
        "import re\n",
        "from sklearn.feature_extraction.text import TfidfVectorizer\n",
        "\n",
        "# --- 1. Define the text preprocessing function ---\n",
        "def preprocess_text(text):\n",
        "    text = str(text) # Ensure it's a string\n",
        "    text = text.lower() # Convert to lowercase\n",
        "\n",
        "    # Remove URLs (e.g., http://..., www. etc.)\n",
        "    text = re.sub(r'http\\S+|www\\S+|https\\S+', '', text, flags=re.MULTILINE)\n",
        "    # Remove email addresses\n",
        "    text = re.sub(r'\\S*@\\S*\\s?', '', text)\n",
        "    # Remove purely numeric tokens (e.g., '12345', '2001')\n",
        "    # \\b ensures word boundaries, so 'abc123def' is not affected, only '123' as a standalone word\n",
        "    text = re.sub(r'\\b\\d+\\b', '', text)\n",
        "\n",
        "    # Remove punctuation and special characters, replace with a space\n",
        "    # [^\\w\\s] matches any character that is NOT a word character (alphanumeric + underscore) or whitespace\n",
        "    text = re.sub(r'[^\\w\\s]', ' ', text)\n",
        "\n",
        "    # Remove extra whitespaces (e.g., multiple spaces, newlines, tabs) and strip leading/trailing spaces\n",
        "    text = re.sub(r'\\s+', ' ', text).strip()\n",
        "\n",
        "    return text\n",
        "\n",
        "# --- 2. Define the main function to process the CSV and apply TF-IDF ---\n",
        "def process_and_tfidf(input_csv_file, message_column):\n",
        "    df = None\n",
        "    possible_encodings = ['utf-8', 'latin1', 'cp1252', 'ISO-8859-1']\n",
        "\n",
        "    # Try to load the CSV with different encodings\n",
        "    for encoding_try in possible_encodings:\n",
        "        try:\n",
        "            print(f\"Attempting to read '{input_csv_file}' with encoding: '{encoding_try}'...\")\n",
        "            # Using header=None and names based on previous discussions about your file structure\n",
        "            df = pd.read_csv(input_csv_file, encoding=encoding_try, header=None, names=['EmailContent', 'Label', 'ExtraColumn'])\n",
        "            print(f\"Successfully loaded '{input_csv_file}' with encoding '{encoding_try}'.\")\n",
        "            break\n",
        "        except UnicodeDecodeError:\n",
        "            print(f\"Failed to decode with '{encoding_try}'. Trying next encoding...\")\n",
        "        except FileNotFoundError:\n",
        "            print(f\"Error: The file '{input_csv_file}' was not found. Please check the path and filename.\")\n",
        "            return\n",
        "        except Exception as e:\n",
        "            print(f\"An unexpected error occurred during file reading: {e}\")\n",
        "            return\n",
        "\n",
        "    if df is None:\n",
        "        print(\"Could not read the file with any of the common encodings. Please check the file's encoding manually.\")\n",
        "        return\n",
        "\n",
        "    print(f\"\\n--- Original DataFrame loaded successfully ---\")\n",
        "    print(f\"Shape of loaded DataFrame (rows, columns): {df.shape}\")\n",
        "    print(f\"First 5 rows of loaded DataFrame:\")\n",
        "    print(df.head())\n",
        "    print(f\"Available columns are: {df.columns.tolist()}\")\n",
        "\n",
        "    # --- 3. Drop missing values in the message column and preprocess text ---\n",
        "    if message_column not in df.columns:\n",
        "        print(f\"Error: Column '{message_column}' not found. Please ensure it matches one of: {df.columns.tolist()}\")\n",
        "        return\n",
        "\n",
        "    # Drop rows where the message column has NaN values\n",
        "    print(f\"\\nDropping rows with missing values in '{message_column}' column...\")\n",
        "    df_cleaned = df.dropna(subset=[message_column])\n",
        "    print(f\"Shape after dropping NaNs: {df_cleaned.shape}\")\n",
        "\n",
        "    # Apply the preprocessing function to the cleaned message column\n",
        "    print(f\"Applying text preprocessing to '{message_column}' to create 'Message_processed'...\")\n",
        "    df_cleaned['Message_processed'] = df_cleaned[message_column].apply(preprocess_text)\n",
        "\n",
        "    print(\"\\n--- Processed Messages Head (important to check this output) ---\")\n",
        "    # This print will show the raw vs processed message content\n",
        "    print(df_cleaned[[message_column, 'Message_processed']].head(10)) # Print 10 rows to see more context\n",
        "\n",
        "    # --- 4. Initialize and apply TfidfVectorizer ---\n",
        "    print(f\"\\nInitializing TfidfVectorizer with max_features=3000 and custom token_pattern...\")\n",
        "    tfidf_vectorizer = TfidfVectorizer(\n",
        "      #  max_features=3000,\n",
        "        lowercase=True,         # Will be applied internally, but our text is already lowercase\n",
        "        stop_words='english',   # Remove common English stop words\n",
        "        min_df=2,               # Ignore words appearing in less than 2 documents\n",
        "        ngram_range=(1, 2),     # Include unigrams and bigrams\n",
        "        token_pattern=r'[a-zA-Z]{2,}' # <--- CRUCIAL: Only tokenize words with at least 2 alphabetic characters\n",
        "    )\n",
        "\n",
        "    print(\"Fitting and transforming data with TfidfVectorizer on 'Message_processed'...\")\n",
        "    X_tfidf = tfidf_vectorizer.fit_transform(df_cleaned['Message_processed']) # <--- Use 'Message_processed' here\n",
        "\n",
        "    # --- 5. See the output of X_tfidf ---\n",
        "    print(f\"\\n--- TF-IDF Vectorization Complete ---\")\n",
        "    print(f\"Shape of X_tfidf (documents, features): {X_tfidf.shape}\")\n",
        "\n",
        "    feature_names = tfidf_vectorizer.get_feature_names_out()\n",
        "    print(\"\\n--- First 20 TF-IDF Feature Names (Words/N-grams in Vocabulary) ---\")\n",
        "    print(feature_names[:20]) # Print first 20 to check for numerical tokens\n",
        "\n",
        "    # Convert a small portion of the sparse matrix to dense for viewing\n",
        "    num_rows_to_display = min(5, X_tfidf.shape[0]) # Display up to 5 rows, or fewer if less data\n",
        "\n",
        "    if num_rows_to_display > 0:\n",
        "        X_tfidf_dense_head = X_tfidf[:num_rows_to_display].toarray()\n",
        "        df_tfidf_output = pd.DataFrame(X_tfidf_dense_head, columns=feature_names)\n",
        "        print(f\"\\n--- First {num_rows_to_display} Rows of TF-IDF Output (Document-Term Matrix) ---\")\n",
        "        print(df_tfidf_output)\n",
        "    else:\n",
        "        print(\"\\nNo data to display in TF-IDF matrix (possibly all rows dropped or empty after processing).\")\n",
        "\n",
        "# --- Main execution block ---\n",
        "if __name__ == \"__main__\":\n",
        "    # --- IMPORTANT: Ensure this matches your file name in the environment ---\n",
        "    INPUT_CSV = \"/content/drive/My Drive/Colab-files/enron emails.csv\" # The file you uploaded\n",
        "    # This must match the name assigned in `names` parameter during read (e.g., 'EmailContent')\n",
        "    EMAIL_CONTENT_COLUMN_NAME = \"EmailContent\"\n",
        "\n",
        "    process_and_tfidf(INPUT_CSV, EMAIL_CONTENT_COLUMN_NAME)"
      ],
      "metadata": {
        "colab": {
          "base_uri": "https://localhost:8080/"
        },
        "id": "xoi-Hib_Hdx8",
        "outputId": "159b6129-2f04-4b45-ac4d-abfd314e43fe"
      },
      "execution_count": 22,
      "outputs": [
        {
          "output_type": "stream",
          "name": "stdout",
          "text": [
            "Attempting to read '/content/drive/My Drive/Colab-files/enron emails.csv' with encoding: 'utf-8'...\n",
            "Failed to decode with 'utf-8'. Trying next encoding...\n",
            "Attempting to read '/content/drive/My Drive/Colab-files/enron emails.csv' with encoding: 'latin1'...\n",
            "Successfully loaded '/content/drive/My Drive/Colab-files/enron emails.csv' with encoding 'latin1'.\n",
            "\n",
            "--- Original DataFrame loaded successfully ---\n",
            "Shape of loaded DataFrame (rows, columns): (33785, 3)\n",
            "First 5 rows of loaded DataFrame:\n",
            "                                        EmailContent     Label ExtraColumn\n",
            "0                                            Message  Category         NaN\n",
            "1           Subject: christmas tree farm pictures\\r        ham         NaN\n",
            "2            Subject: re : rankings\\r thank you .\\r        ham         NaN\n",
            "3  Subject: leadership development pilot\\r sally ...       ham         NaN\n",
            "4  Subject: key dates and impact of upcoming sap ...       ham         NaN\n",
            "Available columns are: ['EmailContent', 'Label', 'ExtraColumn']\n",
            "\n",
            "Dropping rows with missing values in 'EmailContent' column...\n",
            "Shape after dropping NaNs: (33782, 3)\n",
            "Applying text preprocessing to 'EmailContent' to create 'Message_processed'...\n"
          ]
        },
        {
          "output_type": "stream",
          "name": "stderr",
          "text": [
            "/tmp/ipython-input-22-1777981218.py:72: SettingWithCopyWarning: \n",
            "A value is trying to be set on a copy of a slice from a DataFrame.\n",
            "Try using .loc[row_indexer,col_indexer] = value instead\n",
            "\n",
            "See the caveats in the documentation: https://pandas.pydata.org/pandas-docs/stable/user_guide/indexing.html#returning-a-view-versus-a-copy\n",
            "  df_cleaned['Message_processed'] = df_cleaned[message_column].apply(preprocess_text)\n"
          ]
        },
        {
          "output_type": "stream",
          "name": "stdout",
          "text": [
            "\n",
            "--- Processed Messages Head (important to check this output) ---\n",
            "                                        EmailContent  \\\n",
            "0                                            Message   \n",
            "1           Subject: christmas tree farm pictures\\r    \n",
            "2            Subject: re : rankings\\r thank you .\\r    \n",
            "3  Subject: leadership development pilot\\r sally ...   \n",
            "4  Subject: key dates and impact of upcoming sap ...   \n",
            "5  Subject: key hr issues going forward a ) year ...   \n",
            "6  Subject: re : quasi\\r good morning ,\\r i ' d l...   \n",
            "7  Subject: vastar resources , inc .\\r gary , pro...   \n",
            "8  Subject: congrats !\\r contratulations on the e...   \n",
            "9  Subject: re : visit to enron\\r vince ,\\r dec ....   \n",
            "\n",
            "                                   Message_processed  \n",
            "0                                            message  \n",
            "1               subject christmas tree farm pictures  \n",
            "2                      subject re rankings thank you  \n",
            "3  subject leadership development pilot sally wha...  \n",
            "4  subject key dates and impact of upcoming sap i...  \n",
            "5  subject key hr issues going forward a year end...  \n",
            "6  subject re quasi good morning i d love to go g...  \n",
            "7  subject vastar resources inc gary production f...  \n",
            "8  subject congrats contratulations on the execut...  \n",
            "9  subject re visit to enron vince dec at will be...  \n",
            "\n",
            "Initializing TfidfVectorizer with max_features=3000 and custom token_pattern...\n",
            "Fitting and transforming data with TfidfVectorizer on 'Message_processed'...\n",
            "\n",
            "--- TF-IDF Vectorization Complete ---\n",
            "Shape of X_tfidf (documents, features): (33782, 580275)\n",
            "\n",
            "--- First 20 TF-IDF Feature Names (Words/N-grams in Vocabulary) ---\n",
            "['aa' 'aa adobe' 'aa amsterdam' 'aa ask' 'aa audit' 'aa bank' 'aa bbb'\n",
            " 'aa benifits' 'aa care' 'aa cc' 'aa check' 'aa com' 'aa corp' 'aa day'\n",
            " 'aa delivered' 'aa develop' 'aa diligence' 'aa end' 'aa engaged'\n",
            " 'aa following']\n",
            "\n",
            "--- First 5 Rows of TF-IDF Output (Document-Term Matrix) ---\n",
            "    aa  aa adobe  aa amsterdam  aa ask  aa audit  aa bank  aa bbb  \\\n",
            "0  0.0       0.0           0.0     0.0       0.0      0.0     0.0   \n",
            "1  0.0       0.0           0.0     0.0       0.0      0.0     0.0   \n",
            "2  0.0       0.0           0.0     0.0       0.0      0.0     0.0   \n",
            "3  0.0       0.0           0.0     0.0       0.0      0.0     0.0   \n",
            "4  0.0       0.0           0.0     0.0       0.0      0.0     0.0   \n",
            "\n",
            "   aa benifits  aa care  aa cc  ...  zzucpkow psefnayh  zzw  zzw afeet  \\\n",
            "0          0.0      0.0    0.0  ...                0.0  0.0        0.0   \n",
            "1          0.0      0.0    0.0  ...                0.0  0.0        0.0   \n",
            "2          0.0      0.0    0.0  ...                0.0  0.0        0.0   \n",
            "3          0.0      0.0    0.0  ...                0.0  0.0        0.0   \n",
            "4          0.0      0.0    0.0  ...                0.0  0.0        0.0   \n",
            "\n",
            "   zzxtfeerekvwkug  zzxtfeerekvwkug uyyri  zzzz  zzzz example  zzzz jmason  \\\n",
            "0              0.0                    0.0   0.0           0.0          0.0   \n",
            "1              0.0                    0.0   0.0           0.0          0.0   \n",
            "2              0.0                    0.0   0.0           0.0          0.0   \n",
            "3              0.0                    0.0   0.0           0.0          0.0   \n",
            "4              0.0                    0.0   0.0           0.0          0.0   \n",
            "\n",
            "   zzzz visamastercard  zzzz winner  \n",
            "0                  0.0          0.0  \n",
            "1                  0.0          0.0  \n",
            "2                  0.0          0.0  \n",
            "3                  0.0          0.0  \n",
            "4                  0.0          0.0  \n",
            "\n",
            "[5 rows x 580275 columns]\n"
          ]
        }
      ]
    },
    {
      "cell_type": "code",
      "source": [
        "print(feature_names[:200])"
      ],
      "metadata": {
        "colab": {
          "base_uri": "https://localhost:8080/"
        },
        "id": "EJGTKJQoICMI",
        "outputId": "3a56fef6-ce2c-41f9-b754-e3bf8eb29e30"
      },
      "execution_count": 25,
      "outputs": [
        {
          "output_type": "stream",
          "name": "stdout",
          "text": [
            "['00' '000' '0000' '01' '02' '03' '04' '05' '06' '07' '08' '09' '10' '100'\n",
            " '1000' '101' '105' '11' '110' '12' '120' '125' '13' '14' '140' '1400'\n",
            " '15' '150' '16' '161' '1618' '17' '18' '19' '1933' '1934' '1995' '1997'\n",
            " '1998' '1999' '20' '200' '2000' '2001' '2002' '2003' '2004' '2005' '21'\n",
            " '212' '215' '22' '229' '23' '24' '25' '250' '26' '27' '28' '281' '29'\n",
            " '30' '300' '31' '32' '33' '34' '345' '35' '36' '37' '38' '39' '40' '400'\n",
            " '41' '42' '43' '44' '45' '46' '464' '47' '48' '49' '50' '500' '503' '51'\n",
            " '512' '52' '53' '54' '55' '56' '57' '58' '59' '60' '600' '61' '62' '63'\n",
            " '64' '646' '65' '650' '66' '67' '68' '69' '70' '700' '713' '72' '75'\n",
            " '750' '76' '77002' '78' '79' '80' '800' '84' '85' '853' '87' '8859' '888'\n",
            " '89' '90' '92' '95' '96' '97' '971' '98' '99' 'aa' 'ability' 'able'\n",
            " 'about' 'above' 'absolutely' 'abuse' 'ac' 'accept' 'acceptance'\n",
            " 'accepted' 'access' 'according' 'account' 'accounting' 'accounts'\n",
            " 'accuracy' 'achieve' 'acquire' 'acquired' 'acquisition' 'acquisitions'\n",
            " 'acrobat' 'across' 'act' 'action' 'actions' 'active' 'activities'\n",
            " 'activity' 'acts' 'actual' 'actually' 'actuals' 'acy' 'ad' 'add' 'added'\n",
            " 'addition' 'additional' 'additionally' 'address' 'addresses'\n",
            " 'administration' 'administrative' 'adobe' 'adult' 'advance' 'advanced'\n",
            " 'advantage' 'advertisement' 'advertising' 'advice' 'advise' 'advised'\n",
            " 'advises' 'advisor' 'aep' 'affairs' 'affect' 'affiliate']\n"
          ]
        }
      ]
    },
    {
      "cell_type": "code",
      "source": [
        "from sklearn.model_selection import train_test_split\n",
        "from sklearn.naive_bayes import MultinomialNB\n",
        "from sklearn.metrics import classification_report\n",
        "\n",
        "# Labels (0 = ham, 1 = spam)\n",
        "y = df_cleaned_category['Category'].map({'ham': 0, 'spam': 1})\n",
        "\n",
        "# Split data\n",
        "X_train, X_test, y_train, y_test = train_test_split(X_tfidf, y, test_size=0.2, random_state=42)\n",
        "\n",
        "# Train Naive Bayes model\n",
        "nb_model = MultinomialNB()\n",
        "nb_model.fit(X_train, y_train)\n",
        "\n",
        "# Evaluate model\n",
        "y_pred = nb_model.predict(X_test)\n",
        "print(\"📊 Model Evaluation on Test Set:\")\n",
        "print(classification_report(y_test, y_pred))\n",
        "\n",
        "# -----------------------------------\n",
        "# 📥 Predict on Custom Email\n",
        "# -----------------------------------\n",
        "\n",
        "# Custom email to classify\n",
        "email = [\"Dear Mukul Raj Paawan, We hope you're doing great! Congratulations on your next leap towards a maximized career with Flipkart! You have successfully completed your assessment...\"]\n",
        "\n",
        "# Vectorize the email using same tfidf_vectorizer\n",
        "email_vectorized = tfidf_vectorizer.transform(email)\n",
        "\n",
        "# Predict\n",
        "prediction = nb_model.predict(email_vectorized)\n",
        "confidence = nb_model.predict_proba(email_vectorized)\n",
        "\n",
        "# Output\n",
        "print(\"\\n📩 Custom Email Prediction:\")\n",
        "print(\"Prediction:\", \"Spam 🚨\" if prediction[0] == 1 else \"Ham ✅\")\n",
        "print(\"Confidence (Ham, Spam):\", confidence[0])\n"
      ],
      "metadata": {
        "colab": {
          "base_uri": "https://localhost:8080/"
        },
        "id": "BhJjK7n3R3JY",
        "outputId": "3e3e469d-0cae-428d-a80b-c823ab009f6f"
      },
      "execution_count": 58,
      "outputs": [
        {
          "output_type": "stream",
          "name": "stdout",
          "text": [
            "📊 Model Evaluation on Test Set:\n",
            "              precision    recall  f1-score   support\n",
            "\n",
            "           0       0.99      0.97      0.98      3300\n",
            "           1       0.97      0.99      0.98      3440\n",
            "\n",
            "    accuracy                           0.98      6740\n",
            "   macro avg       0.98      0.98      0.98      6740\n",
            "weighted avg       0.98      0.98      0.98      6740\n",
            "\n",
            "\n",
            "📩 Custom Email Prediction:\n",
            "Prediction: Ham ✅\n",
            "Confidence (Ham, Spam): [0.5814499 0.4185501]\n"
          ]
        }
      ]
    },
    {
      "cell_type": "code",
      "source": [
        "# List of custom emails\n",
        "custom_emails = [\n",
        "    \"Dear Mukul Raj Paawan, We hope you're doing great! Congratulations on your next leap towards a maximized career with Flipkart! You have successfully completed your assessment...\",\n",
        "    \"Get FREE access to our exclusive offer — click now and claim your reward!\",\n",
        "    \"Hi Mukul, your resume was shortlisted. Please schedule your interview at your convenience.\",\n",
        "    \"Warning: Your account will be suspended unless you verify your identity now. Click here to confirm.\"\n",
        "]\n",
        "\n",
        "# Loop through each email and make prediction\n",
        "for i, email in enumerate(custom_emails, 1):\n",
        "    email_vectorized = tfidf_vectorizer.transform([email])\n",
        "    prediction = nb_model.predict(email_vectorized)\n",
        "    confidence = nb_model.predict_proba(email_vectorized)\n",
        "\n",
        "    print(f\"\\n📧 Email {i}:\")\n",
        "    print(email)\n",
        "    print(\"Prediction:\", \"Spam 🚨\" if prediction[0] == 1 else \"Ham ✅\")\n",
        "    print(\"Confidence (Ham, Spam):\", confidence[0])\n"
      ],
      "metadata": {
        "colab": {
          "base_uri": "https://localhost:8080/"
        },
        "id": "4k7WqoIGS5wr",
        "outputId": "30f1c1cb-ee6c-4b3a-a66b-963a365a1f89"
      },
      "execution_count": 59,
      "outputs": [
        {
          "output_type": "stream",
          "name": "stdout",
          "text": [
            "\n",
            "📧 Email 1:\n",
            "Dear Mukul Raj Paawan, We hope you're doing great! Congratulations on your next leap towards a maximized career with Flipkart! You have successfully completed your assessment...\n",
            "Prediction: Ham ✅\n",
            "Confidence (Ham, Spam): [0.5814499 0.4185501]\n",
            "\n",
            "📧 Email 2:\n",
            "Get FREE access to our exclusive offer — click now and claim your reward!\n",
            "Prediction: Spam 🚨\n",
            "Confidence (Ham, Spam): [0.01564332 0.98435668]\n",
            "\n",
            "📧 Email 3:\n",
            "Hi Mukul, your resume was shortlisted. Please schedule your interview at your convenience.\n",
            "Prediction: Ham ✅\n",
            "Confidence (Ham, Spam): [0.95454375 0.04545625]\n",
            "\n",
            "📧 Email 4:\n",
            "Warning: Your account will be suspended unless you verify your identity now. Click here to confirm.\n",
            "Prediction: Spam 🚨\n",
            "Confidence (Ham, Spam): [0.03414148 0.96585852]\n"
          ]
        }
      ]
    },
    {
      "cell_type": "code",
      "source": [],
      "metadata": {
        "id": "ueAPDQN0S6WQ"
      },
      "execution_count": null,
      "outputs": []
    }
  ]
}